{
 "cells": [
  {
   "cell_type": "code",
   "execution_count": 1,
   "id": "06c55845",
   "metadata": {
    "ExecuteTime": {
     "end_time": "2022-12-14T15:11:44.520878Z",
     "start_time": "2022-12-14T15:11:39.869428Z"
    }
   },
   "outputs": [],
   "source": [
    "import pandas as pd\n",
    "import matplotlib.pyplot as plt\n",
    "import seaborn as sns\n",
    "import numpy as np"
   ]
  },
  {
   "cell_type": "markdown",
   "id": "85d0500a",
   "metadata": {},
   "source": [
    "# Exploratory Data Analysis (EDA)"
   ]
  },
  {
   "cell_type": "code",
   "execution_count": 2,
   "id": "bee491b6",
   "metadata": {
    "ExecuteTime": {
     "end_time": "2022-12-14T15:11:44.583815Z",
     "start_time": "2022-12-14T15:11:44.522868Z"
    }
   },
   "outputs": [
    {
     "data": {
      "text/html": [
       "<div>\n",
       "<style scoped>\n",
       "    .dataframe tbody tr th:only-of-type {\n",
       "        vertical-align: middle;\n",
       "    }\n",
       "\n",
       "    .dataframe tbody tr th {\n",
       "        vertical-align: top;\n",
       "    }\n",
       "\n",
       "    .dataframe thead th {\n",
       "        text-align: right;\n",
       "    }\n",
       "</style>\n",
       "<table border=\"1\" class=\"dataframe\">\n",
       "  <thead>\n",
       "    <tr style=\"text-align: right;\">\n",
       "      <th></th>\n",
       "      <th>Name</th>\n",
       "      <th>Address</th>\n",
       "      <th>Author</th>\n",
       "      <th>Price</th>\n",
       "      <th>Bedrooms</th>\n",
       "      <th>Showers</th>\n",
       "      <th>Parking</th>\n",
       "      <th>Furnish</th>\n",
       "      <th>Total Developed</th>\n",
       "      <th>Features</th>\n",
       "      <th>...</th>\n",
       "      <th>Nearby Places</th>\n",
       "      <th>URL</th>\n",
       "      <th>Timestamp</th>\n",
       "      <th>City</th>\n",
       "      <th>Region</th>\n",
       "      <th>Island</th>\n",
       "      <th>Type</th>\n",
       "      <th>NFeatures</th>\n",
       "      <th>NFacilities</th>\n",
       "      <th>NNearby Places</th>\n",
       "    </tr>\n",
       "  </thead>\n",
       "  <tbody>\n",
       "    <tr>\n",
       "      <th>0</th>\n",
       "      <td>3 BR Condo in The Grand Midori Ortigas, Pasig</td>\n",
       "      <td></td>\n",
       "      <td>Federal Land, Inc.</td>\n",
       "      <td>29700000</td>\n",
       "      <td>3</td>\n",
       "      <td>3.0</td>\n",
       "      <td>2</td>\n",
       "      <td>0</td>\n",
       "      <td>107.0</td>\n",
       "      <td>[Ensuite, Range Hood, Stove/Burner]</td>\n",
       "      <td>...</td>\n",
       "      <td>[School, Hospital]</td>\n",
       "      <td>https://propertyaccess.ph/property/3-br-condo-...</td>\n",
       "      <td>2022-10-23</td>\n",
       "      <td>Pasig</td>\n",
       "      <td>National Capital Region</td>\n",
       "      <td>Luzon</td>\n",
       "      <td>Condo</td>\n",
       "      <td>3</td>\n",
       "      <td>11</td>\n",
       "      <td>2</td>\n",
       "    </tr>\n",
       "    <tr>\n",
       "      <th>1</th>\n",
       "      <td>1 Bedroom Condo in The Grand Midori Ortigas, P...</td>\n",
       "      <td></td>\n",
       "      <td>Federal Land, Inc.</td>\n",
       "      <td>10200000</td>\n",
       "      <td>1</td>\n",
       "      <td>1.0</td>\n",
       "      <td>0</td>\n",
       "      <td>0</td>\n",
       "      <td>46.0</td>\n",
       "      <td>[Fiber ready]</td>\n",
       "      <td>...</td>\n",
       "      <td>[School, Hospital]</td>\n",
       "      <td>https://propertyaccess.ph/property/1br-condo-i...</td>\n",
       "      <td>2022-10-23</td>\n",
       "      <td>Pasig</td>\n",
       "      <td>National Capital Region</td>\n",
       "      <td>Luzon</td>\n",
       "      <td>Condo</td>\n",
       "      <td>1</td>\n",
       "      <td>11</td>\n",
       "      <td>2</td>\n",
       "    </tr>\n",
       "    <tr>\n",
       "      <th>2</th>\n",
       "      <td>3 Bedroom Condo in Aurelia Residences, Taguig</td>\n",
       "      <td>McKinley Parkway, Taguig, Metro Manila</td>\n",
       "      <td>Shang Properties</td>\n",
       "      <td>107300000</td>\n",
       "      <td>3</td>\n",
       "      <td>4.0</td>\n",
       "      <td>2</td>\n",
       "      <td>0</td>\n",
       "      <td>242.0</td>\n",
       "      <td>[Central air conditioning, Balcony, Built-in w...</td>\n",
       "      <td>...</td>\n",
       "      <td>[School, Hospital, Mall, Transportation hub]</td>\n",
       "      <td>https://propertyaccess.ph/property/3-bedroom-c...</td>\n",
       "      <td>2022-10-23</td>\n",
       "      <td>Taguig</td>\n",
       "      <td>National Capital Region</td>\n",
       "      <td>Luzon</td>\n",
       "      <td>Condo</td>\n",
       "      <td>10</td>\n",
       "      <td>15</td>\n",
       "      <td>4</td>\n",
       "    </tr>\n",
       "    <tr>\n",
       "      <th>3</th>\n",
       "      <td>3 Bedroom Condo in Shang Residences at Wack Wa...</td>\n",
       "      <td>Wack Wack Road, Mandaluyong, Metro Manila</td>\n",
       "      <td>Shang Properties</td>\n",
       "      <td>54500000</td>\n",
       "      <td>3</td>\n",
       "      <td>4.0</td>\n",
       "      <td>3</td>\n",
       "      <td>0</td>\n",
       "      <td>231.0</td>\n",
       "      <td>[Central air conditioning, Balcony, Built-in w...</td>\n",
       "      <td>...</td>\n",
       "      <td>[School, Hospital, Mall, Transportation hub]</td>\n",
       "      <td>https://propertyaccess.ph/property/3-bedroom-c...</td>\n",
       "      <td>2022-10-23</td>\n",
       "      <td>Mandaluyong</td>\n",
       "      <td>National Capital Region</td>\n",
       "      <td>Luzon</td>\n",
       "      <td>Condo</td>\n",
       "      <td>9</td>\n",
       "      <td>16</td>\n",
       "      <td>4</td>\n",
       "    </tr>\n",
       "    <tr>\n",
       "      <th>4</th>\n",
       "      <td>2BR Condo in Residences at The Galleon, Pasig</td>\n",
       "      <td></td>\n",
       "      <td>Ortigas Land</td>\n",
       "      <td>41500000</td>\n",
       "      <td>2</td>\n",
       "      <td>2.0</td>\n",
       "      <td>2</td>\n",
       "      <td>0</td>\n",
       "      <td>109.0</td>\n",
       "      <td>[Central air conditioning, Balcony, Built-in w...</td>\n",
       "      <td>...</td>\n",
       "      <td>[School, Hospital, Mall, Transportation hub]</td>\n",
       "      <td>https://propertyaccess.ph/property/2br-condo-i...</td>\n",
       "      <td>2022-10-23</td>\n",
       "      <td>Pasig</td>\n",
       "      <td>National Capital Region</td>\n",
       "      <td>Luzon</td>\n",
       "      <td>Condo</td>\n",
       "      <td>7</td>\n",
       "      <td>14</td>\n",
       "      <td>4</td>\n",
       "    </tr>\n",
       "  </tbody>\n",
       "</table>\n",
       "<p>5 rows × 21 columns</p>\n",
       "</div>"
      ],
      "text/plain": [
       "                                                Name  \\\n",
       "0      3 BR Condo in The Grand Midori Ortigas, Pasig   \n",
       "1  1 Bedroom Condo in The Grand Midori Ortigas, P...   \n",
       "2      3 Bedroom Condo in Aurelia Residences, Taguig   \n",
       "3  3 Bedroom Condo in Shang Residences at Wack Wa...   \n",
       "4      2BR Condo in Residences at The Galleon, Pasig   \n",
       "\n",
       "                                     Address              Author      Price  \\\n",
       "0                                             Federal Land, Inc.   29700000   \n",
       "1                                             Federal Land, Inc.   10200000   \n",
       "2     McKinley Parkway, Taguig, Metro Manila    Shang Properties  107300000   \n",
       "3  Wack Wack Road, Mandaluyong, Metro Manila    Shang Properties   54500000   \n",
       "4                                                   Ortigas Land   41500000   \n",
       "\n",
       "   Bedrooms  Showers  Parking  Furnish  Total Developed  \\\n",
       "0         3      3.0        2        0            107.0   \n",
       "1         1      1.0        0        0             46.0   \n",
       "2         3      4.0        2        0            242.0   \n",
       "3         3      4.0        3        0            231.0   \n",
       "4         2      2.0        2        0            109.0   \n",
       "\n",
       "                                            Features  ...  \\\n",
       "0                [Ensuite, Range Hood, Stove/Burner]  ...   \n",
       "1                                      [Fiber ready]  ...   \n",
       "2  [Central air conditioning, Balcony, Built-in w...  ...   \n",
       "3  [Central air conditioning, Balcony, Built-in w...  ...   \n",
       "4  [Central air conditioning, Balcony, Built-in w...  ...   \n",
       "\n",
       "                                  Nearby Places  \\\n",
       "0                            [School, Hospital]   \n",
       "1                            [School, Hospital]   \n",
       "2  [School, Hospital, Mall, Transportation hub]   \n",
       "3  [School, Hospital, Mall, Transportation hub]   \n",
       "4  [School, Hospital, Mall, Transportation hub]   \n",
       "\n",
       "                                                 URL  Timestamp         City  \\\n",
       "0  https://propertyaccess.ph/property/3-br-condo-... 2022-10-23        Pasig   \n",
       "1  https://propertyaccess.ph/property/1br-condo-i... 2022-10-23        Pasig   \n",
       "2  https://propertyaccess.ph/property/3-bedroom-c... 2022-10-23       Taguig   \n",
       "3  https://propertyaccess.ph/property/3-bedroom-c... 2022-10-23  Mandaluyong   \n",
       "4  https://propertyaccess.ph/property/2br-condo-i... 2022-10-23        Pasig   \n",
       "\n",
       "                    Region Island   Type NFeatures  NFacilities  \\\n",
       "0  National Capital Region  Luzon  Condo         3           11   \n",
       "1  National Capital Region  Luzon  Condo         1           11   \n",
       "2  National Capital Region  Luzon  Condo        10           15   \n",
       "3  National Capital Region  Luzon  Condo         9           16   \n",
       "4  National Capital Region  Luzon  Condo         7           14   \n",
       "\n",
       "   NNearby Places  \n",
       "0               2  \n",
       "1               2  \n",
       "2               4  \n",
       "3               4  \n",
       "4               4  \n",
       "\n",
       "[5 rows x 21 columns]"
      ]
     },
     "execution_count": 2,
     "metadata": {},
     "output_type": "execute_result"
    }
   ],
   "source": [
    "df = pd.read_json('cleaned_data.json', orient='columns')\n",
    "df.head()"
   ]
  },
  {
   "cell_type": "markdown",
   "id": "af14e108",
   "metadata": {},
   "source": [
    "### EDA#1: How many condos and houses are there in each per city, region and island?"
   ]
  },
  {
   "cell_type": "markdown",
   "id": "9683afb4",
   "metadata": {},
   "source": [
    "#### City"
   ]
  },
  {
   "cell_type": "code",
   "execution_count": 3,
   "id": "3bcf5a5c",
   "metadata": {
    "ExecuteTime": {
     "end_time": "2022-12-14T15:11:44.913992Z",
     "start_time": "2022-12-14T15:11:44.584802Z"
    }
   },
   "outputs": [
    {
     "data": {
      "text/plain": [
       "Text(0.5, 1.0, 'Amount of Condo and Houses in top 25 cities')"
      ]
     },
     "execution_count": 3,
     "metadata": {},
     "output_type": "execute_result"
    },
    {
     "data": {
      "image/png": "[encoded data removed]",
      "text/plain": [
       "<Figure size 1008x720 with 1 Axes>"
      ]
     },
     "metadata": {
      "needs_background": "light"
     },
     "output_type": "display_data"
    }
   ],
   "source": [
    "plt.figure(figsize=(14,10))\n",
    "top_25_cities = df['City'].value_counts().index[:25]\n",
    "top_25_df = df[df['City'].isin(top_25_cities)]\n",
    "sns.countplot(data=top_25_df, y='City', hue='Type', palette=\"blend:#7AB,#EDA\", order=top_25_cities)\n",
    "plt.title('Amount of Condo and Houses in top 25 cities')"
   ]
  },
  {
   "cell_type": "markdown",
   "id": "aeae15fa",
   "metadata": {},
   "source": [
    "#### Findings: \n",
    "The bar chart contains the top 25 cities with most properties listed. The cities are sorted in a descending order based on the total amount of properties within them. However, the amount of condos and houses are seperately plotted. As can be seen the top 10 cities with most amount of listed properties are from Metro Manila. Among these, 7 out of 10 cities has more condos compared to houses. On the other hand, 8 out of 14 cities from top 11 to 24 has more houses compared to condos."
   ]
  },
  {
   "cell_type": "markdown",
   "id": "55250072",
   "metadata": {},
   "source": [
    "#### Region"
   ]
  },
  {
   "cell_type": "code",
   "execution_count": 4,
   "id": "79fb6776",
   "metadata": {
    "ExecuteTime": {
     "end_time": "2022-12-14T15:11:45.054956Z",
     "start_time": "2022-12-14T15:11:44.916992Z"
    },
    "scrolled": false
   },
   "outputs": [
    {
     "data": {
      "text/plain": [
       "Text(0.5, 1.0, 'Amount of Condo and Houses in each Region')"
      ]
     },
     "execution_count": 4,
     "metadata": {},
     "output_type": "execute_result"
    },
    {
     "data": {
      "image/png": "[encoded data removed]",
      "text/plain": [
       "<Figure size 720x432 with 1 Axes>"
      ]
     },
     "metadata": {
      "needs_background": "light"
     },
     "output_type": "display_data"
    }
   ],
   "source": [
    "plt.figure(figsize=(10,6))\n",
    "sorted_by_count = df.groupby('Region').count().sort_values('Type', ascending=False).index\n",
    "sns.countplot(data=df, y='Region', hue='Type', palette=\"blend:#7AB,#EDA\", order=sorted_by_count)\n",
    "plt.title('Amount of Condo and Houses in each Region')"
   ]
  },
  {
   "cell_type": "markdown",
   "id": "fe9b5b55",
   "metadata": {},
   "source": [
    "#### Findings: \n",
    "The regions are sorted based on the total amount of properties listed within it. It can clearly be seen that the NCR has the most amount of properties listed. However it is the only one aside from CAR and Western Visayas regions with more condo compared to houses."
   ]
  },
  {
   "cell_type": "markdown",
   "id": "adf82c80",
   "metadata": {},
   "source": [
    "#### Island"
   ]
  },
  {
   "cell_type": "code",
   "execution_count": 5,
   "id": "3286a895",
   "metadata": {
    "ExecuteTime": {
     "end_time": "2022-12-14T15:11:45.149630Z",
     "start_time": "2022-12-14T15:11:45.055968Z"
    }
   },
   "outputs": [
    {
     "data": {
      "text/plain": [
       "Text(0.5, 1.0, 'Amount of Condo and Houses in each Island')"
      ]
     },
     "execution_count": 5,
     "metadata": {},
     "output_type": "execute_result"
    },
    {
     "data": {
      "image/png": "[encoded data removed]",
      "text/plain": [
       "<Figure size 720x432 with 1 Axes>"
      ]
     },
     "metadata": {
      "needs_background": "light"
     },
     "output_type": "display_data"
    }
   ],
   "source": [
    "plt.figure(figsize=(10,6))\n",
    "sorted_by_count = df.groupby('Island').count().sort_values('Type', ascending=False).index\n",
    "sns.countplot(data=df, y='Island', hue='Type', palette=\"blend:#7AB,#EDA\", order=sorted_by_count)\n",
    "plt.title('Amount of Condo and Houses in each Island')"
   ]
  },
  {
   "cell_type": "markdown",
   "id": "8208b675",
   "metadata": {},
   "source": [
    "#### Findings: \n",
    "The islands are sorted based on the total amount of properties listed within it. It can be seen that there are so much more properties listed in Luzon compared to Visayas. Only Luzon has more condos compared to houses, in visayas and mindanao, there are more houses compared to condos."
   ]
  },
  {
   "cell_type": "markdown",
   "id": "248172f2",
   "metadata": {},
   "source": [
    "### EDA#2: What is the price range of condos and houses per city, region and island?"
   ]
  },
  {
   "cell_type": "markdown",
   "id": "4e9bb28c",
   "metadata": {},
   "source": [
    "#### City"
   ]
  },
  {
   "cell_type": "code",
   "execution_count": 6,
   "id": "de1089df",
   "metadata": {
    "ExecuteTime": {
     "end_time": "2022-12-14T15:11:45.681594Z",
     "start_time": "2022-12-14T15:11:45.150634Z"
    }
   },
   "outputs": [
    {
     "data": {
      "text/plain": [
       "Text(0.5, 1.0, 'Price Range of Condos and Houses in top 25 cities')"
      ]
     },
     "execution_count": 6,
     "metadata": {},
     "output_type": "execute_result"
    },
    {
     "data": {
      "image/png": "[encoded data removed]",
      "text/plain": [
       "<Figure size 1008x864 with 1 Axes>"
      ]
     },
     "metadata": {
      "needs_background": "light"
     },
     "output_type": "display_data"
    }
   ],
   "source": [
    "plt.figure(figsize=(14,12))\n",
    "top_25_cities = df.groupby('City').sum().sort_values('Price', ascending=False).index[:25]\n",
    "top_25_df = df[df['City'].isin(top_25_cities)]\n",
    "sns.boxplot(data=df, x='Price', y='City', hue='Type', palette=\"blend:#7AB,#EDA\", order=top_25_cities)\n",
    "plt.title('Price Range of Condos and Houses in top 25 cities')"
   ]
  },
  {
   "cell_type": "markdown",
   "id": "a5d6f600",
   "metadata": {
    "ExecuteTime": {
     "end_time": "2022-10-25T07:25:22.586665Z",
     "start_time": "2022-10-25T07:25:22.569975Z"
    }
   },
   "source": [
    "#### Findings: \n",
    "\n",
    "The price range of houses are shown by using a box plot based on the prices of the listed properties on top 25 cities with most expensive houses. The cities are sorted based on the total price of properties in that city. Among the listed properties, almost all of the houses in each city are generally more expensive compared to condos. Finally, the top 10 of cities with the most expensive overall, are from Metro Manila."
   ]
  },
  {
   "cell_type": "markdown",
   "id": "1c854531",
   "metadata": {},
   "source": [
    "#### Region"
   ]
  },
  {
   "cell_type": "code",
   "execution_count": 7,
   "id": "9f52a5ec",
   "metadata": {
    "ExecuteTime": {
     "end_time": "2022-12-14T15:11:45.967712Z",
     "start_time": "2022-12-14T15:11:45.682598Z"
    }
   },
   "outputs": [
    {
     "data": {
      "text/plain": [
       "Text(0.5, 1.0, 'Price Range of Condos and Houses in each Region')"
      ]
     },
     "execution_count": 7,
     "metadata": {},
     "output_type": "execute_result"
    },
    {
     "data": {
      "image/png": "[encoded data removed]",
      "text/plain": [
       "<Figure size 720x432 with 1 Axes>"
      ]
     },
     "metadata": {
      "needs_background": "light"
     },
     "output_type": "display_data"
    }
   ],
   "source": [
    "plt.figure(figsize=(10,6))\n",
    "sorted_by_count = df.groupby('Region').count().sort_values('Type', ascending=False).index\n",
    "sns.boxplot(data=df, x='Price', y='Region', hue='Type', palette=\"blend:#7AB,#EDA\", order=sorted_by_count)\n",
    "plt.title('Price Range of Condos and Houses in each Region')"
   ]
  },
  {
   "cell_type": "markdown",
   "id": "35602ef8",
   "metadata": {},
   "source": [
    "#### Findings: \n",
    "\n",
    "The NCR has the highest price ranges out of all. Only Central Visayas has the almost the same price range between condos and houses. All the other regions have higher price on the houses compared to condos."
   ]
  },
  {
   "cell_type": "markdown",
   "id": "0a196948",
   "metadata": {},
   "source": [
    "#### Island"
   ]
  },
  {
   "cell_type": "code",
   "execution_count": 8,
   "id": "d1651f5a",
   "metadata": {
    "ExecuteTime": {
     "end_time": "2022-12-14T15:11:46.123398Z",
     "start_time": "2022-12-14T15:11:45.969036Z"
    }
   },
   "outputs": [
    {
     "data": {
      "text/plain": [
       "Text(0.5, 1.0, 'Price Range of Condos and Houses in each Island')"
      ]
     },
     "execution_count": 8,
     "metadata": {},
     "output_type": "execute_result"
    },
    {
     "data": {
      "image/png": "[encoded data removed]",
      "text/plain": [
       "<Figure size 720x432 with 1 Axes>"
      ]
     },
     "metadata": {
      "needs_background": "light"
     },
     "output_type": "display_data"
    }
   ],
   "source": [
    "plt.figure(figsize=(10,6))\n",
    "sorted_by_count = df.groupby('Island').count().sort_values('Type', ascending=False).index\n",
    "sns.boxplot(data=df, x='Price', y='Island', hue='Type', palette=\"blend:#7AB,#EDA\", order=sorted_by_count)\n",
    "plt.title('Price Range of Condos and Houses in each Island')"
   ]
  },
  {
   "cell_type": "markdown",
   "id": "3d6d831e",
   "metadata": {},
   "source": [
    "#### Findings: \n",
    "It can be seen that Visayas has almost equal price range between condos and houses. Luzon has the most expensive houses and condos however, like Mindanao, Luzon also has higher price range when it comes to houses compared to condos."
   ]
  },
  {
   "cell_type": "markdown",
   "id": "6d52f102",
   "metadata": {},
   "source": [
    "### EDA#3: What is the median price of condos and houses per city, region and island?"
   ]
  },
  {
   "cell_type": "markdown",
   "id": "6e397c0e",
   "metadata": {},
   "source": [
    "#### City - House"
   ]
  },
  {
   "cell_type": "code",
   "execution_count": 9,
   "id": "3bf9ea46",
   "metadata": {
    "ExecuteTime": {
     "end_time": "2022-12-14T15:11:46.138433Z",
     "start_time": "2022-12-14T15:11:46.124389Z"
    },
    "scrolled": true
   },
   "outputs": [
    {
     "data": {
      "text/html": [
       "<div>\n",
       "<style scoped>\n",
       "    .dataframe tbody tr th:only-of-type {\n",
       "        vertical-align: middle;\n",
       "    }\n",
       "\n",
       "    .dataframe tbody tr th {\n",
       "        vertical-align: top;\n",
       "    }\n",
       "\n",
       "    .dataframe thead th {\n",
       "        text-align: right;\n",
       "    }\n",
       "</style>\n",
       "<table border=\"1\" class=\"dataframe\">\n",
       "  <thead>\n",
       "    <tr style=\"text-align: right;\">\n",
       "      <th></th>\n",
       "      <th>Type</th>\n",
       "      <th>City</th>\n",
       "      <th>Island</th>\n",
       "      <th>Price</th>\n",
       "    </tr>\n",
       "  </thead>\n",
       "  <tbody>\n",
       "    <tr>\n",
       "      <th>0</th>\n",
       "      <td>House</td>\n",
       "      <td>Malay</td>\n",
       "      <td>Visayas</td>\n",
       "      <td>370000000.0</td>\n",
       "    </tr>\n",
       "    <tr>\n",
       "      <th>1</th>\n",
       "      <td>House</td>\n",
       "      <td>Muntinlupa</td>\n",
       "      <td>Luzon</td>\n",
       "      <td>68000000.0</td>\n",
       "    </tr>\n",
       "    <tr>\n",
       "      <th>2</th>\n",
       "      <td>House</td>\n",
       "      <td>Makati</td>\n",
       "      <td>Luzon</td>\n",
       "      <td>66500000.0</td>\n",
       "    </tr>\n",
       "    <tr>\n",
       "      <th>3</th>\n",
       "      <td>House</td>\n",
       "      <td>Lapu-Lapu</td>\n",
       "      <td>Luzon</td>\n",
       "      <td>49500000.0</td>\n",
       "    </tr>\n",
       "    <tr>\n",
       "      <th>4</th>\n",
       "      <td>House</td>\n",
       "      <td>Taguig</td>\n",
       "      <td>Luzon</td>\n",
       "      <td>48800000.0</td>\n",
       "    </tr>\n",
       "    <tr>\n",
       "      <th>...</th>\n",
       "      <td>...</td>\n",
       "      <td>...</td>\n",
       "      <td>...</td>\n",
       "      <td>...</td>\n",
       "    </tr>\n",
       "    <tr>\n",
       "      <th>97</th>\n",
       "      <td>Condo</td>\n",
       "      <td>San Jose Del Monte</td>\n",
       "      <td>Luzon</td>\n",
       "      <td>2200000.0</td>\n",
       "    </tr>\n",
       "    <tr>\n",
       "      <th>98</th>\n",
       "      <td>House</td>\n",
       "      <td>Mabalacat</td>\n",
       "      <td>Luzon</td>\n",
       "      <td>1913500.0</td>\n",
       "    </tr>\n",
       "    <tr>\n",
       "      <th>99</th>\n",
       "      <td>House</td>\n",
       "      <td>San Jose Del Monte</td>\n",
       "      <td>Luzon</td>\n",
       "      <td>1834000.0</td>\n",
       "    </tr>\n",
       "    <tr>\n",
       "      <th>100</th>\n",
       "      <td>House</td>\n",
       "      <td>Pampanga</td>\n",
       "      <td>Luzon</td>\n",
       "      <td>1700000.0</td>\n",
       "    </tr>\n",
       "    <tr>\n",
       "      <th>101</th>\n",
       "      <td>House</td>\n",
       "      <td>Cabanatuan</td>\n",
       "      <td>Luzon</td>\n",
       "      <td>1700000.0</td>\n",
       "    </tr>\n",
       "  </tbody>\n",
       "</table>\n",
       "<p>102 rows × 4 columns</p>\n",
       "</div>"
      ],
      "text/plain": [
       "      Type                City   Island        Price\n",
       "0    House               Malay  Visayas  370000000.0\n",
       "1    House          Muntinlupa    Luzon   68000000.0\n",
       "2    House              Makati    Luzon   66500000.0\n",
       "3    House           Lapu-Lapu    Luzon   49500000.0\n",
       "4    House              Taguig    Luzon   48800000.0\n",
       "..     ...                 ...      ...          ...\n",
       "97   Condo  San Jose Del Monte    Luzon    2200000.0\n",
       "98   House           Mabalacat    Luzon    1913500.0\n",
       "99   House  San Jose Del Monte    Luzon    1834000.0\n",
       "100  House            Pampanga    Luzon    1700000.0\n",
       "101  House          Cabanatuan    Luzon    1700000.0\n",
       "\n",
       "[102 rows x 4 columns]"
      ]
     },
     "execution_count": 9,
     "metadata": {},
     "output_type": "execute_result"
    }
   ],
   "source": [
    "r1city = df.groupby(['Type', 'City', 'Island'])['Price'].median().sort_values(ascending=False).reset_index()\n",
    "r1city"
   ]
  },
  {
   "cell_type": "code",
   "execution_count": 10,
   "id": "7baa6c54",
   "metadata": {
    "ExecuteTime": {
     "end_time": "2022-12-14T15:11:46.170043Z",
     "start_time": "2022-12-14T15:11:46.140451Z"
    },
    "scrolled": false
   },
   "outputs": [
    {
     "data": {
      "text/html": [
       "<div>\n",
       "<style scoped>\n",
       "    .dataframe tbody tr th:only-of-type {\n",
       "        vertical-align: middle;\n",
       "    }\n",
       "\n",
       "    .dataframe tbody tr th {\n",
       "        vertical-align: top;\n",
       "    }\n",
       "\n",
       "    .dataframe thead th {\n",
       "        text-align: right;\n",
       "    }\n",
       "</style>\n",
       "<table border=\"1\" class=\"dataframe\">\n",
       "  <thead>\n",
       "    <tr style=\"text-align: right;\">\n",
       "      <th></th>\n",
       "      <th>Type</th>\n",
       "      <th>City</th>\n",
       "      <th>Island</th>\n",
       "      <th>Price</th>\n",
       "    </tr>\n",
       "  </thead>\n",
       "  <tbody>\n",
       "    <tr>\n",
       "      <th>1</th>\n",
       "      <td>House</td>\n",
       "      <td>Muntinlupa</td>\n",
       "      <td>Luzon</td>\n",
       "      <td>68000000.0</td>\n",
       "    </tr>\n",
       "    <tr>\n",
       "      <th>2</th>\n",
       "      <td>House</td>\n",
       "      <td>Makati</td>\n",
       "      <td>Luzon</td>\n",
       "      <td>66500000.0</td>\n",
       "    </tr>\n",
       "    <tr>\n",
       "      <th>3</th>\n",
       "      <td>House</td>\n",
       "      <td>Lapu-Lapu</td>\n",
       "      <td>Luzon</td>\n",
       "      <td>49500000.0</td>\n",
       "    </tr>\n",
       "    <tr>\n",
       "      <th>4</th>\n",
       "      <td>House</td>\n",
       "      <td>Taguig</td>\n",
       "      <td>Luzon</td>\n",
       "      <td>48800000.0</td>\n",
       "    </tr>\n",
       "    <tr>\n",
       "      <th>5</th>\n",
       "      <td>House</td>\n",
       "      <td>Manila</td>\n",
       "      <td>Luzon</td>\n",
       "      <td>46400000.0</td>\n",
       "    </tr>\n",
       "    <tr>\n",
       "      <th>6</th>\n",
       "      <td>House</td>\n",
       "      <td>Biñan</td>\n",
       "      <td>Luzon</td>\n",
       "      <td>44215500.0</td>\n",
       "    </tr>\n",
       "    <tr>\n",
       "      <th>7</th>\n",
       "      <td>House</td>\n",
       "      <td>Quezon</td>\n",
       "      <td>Luzon</td>\n",
       "      <td>43000000.0</td>\n",
       "    </tr>\n",
       "    <tr>\n",
       "      <th>9</th>\n",
       "      <td>House</td>\n",
       "      <td>San Juan</td>\n",
       "      <td>Luzon</td>\n",
       "      <td>33275000.0</td>\n",
       "    </tr>\n",
       "    <tr>\n",
       "      <th>10</th>\n",
       "      <td>House</td>\n",
       "      <td>Laguna</td>\n",
       "      <td>Luzon</td>\n",
       "      <td>31800000.0</td>\n",
       "    </tr>\n",
       "    <tr>\n",
       "      <th>11</th>\n",
       "      <td>House</td>\n",
       "      <td>Mandaluyong</td>\n",
       "      <td>Luzon</td>\n",
       "      <td>28825000.0</td>\n",
       "    </tr>\n",
       "  </tbody>\n",
       "</table>\n",
       "</div>"
      ],
      "text/plain": [
       "     Type         City Island       Price\n",
       "1   House   Muntinlupa  Luzon  68000000.0\n",
       "2   House       Makati  Luzon  66500000.0\n",
       "3   House    Lapu-Lapu  Luzon  49500000.0\n",
       "4   House       Taguig  Luzon  48800000.0\n",
       "5   House       Manila  Luzon  46400000.0\n",
       "6   House        Biñan  Luzon  44215500.0\n",
       "7   House       Quezon  Luzon  43000000.0\n",
       "9   House     San Juan  Luzon  33275000.0\n",
       "10  House       Laguna  Luzon  31800000.0\n",
       "11  House  Mandaluyong  Luzon  28825000.0"
      ]
     },
     "execution_count": 10,
     "metadata": {},
     "output_type": "execute_result"
    }
   ],
   "source": [
    "r1cityhouse = r1city[r1city.Type == \"House\"]\n",
    "r1cityluzon = r1cityhouse[r1cityhouse.Island == \"Luzon\"]\n",
    "luzon_ten = r1cityluzon.head(10)\n",
    "luzon_ten"
   ]
  },
  {
   "cell_type": "code",
   "execution_count": 11,
   "id": "10590774",
   "metadata": {
    "ExecuteTime": {
     "end_time": "2022-12-14T15:11:46.344244Z",
     "start_time": "2022-12-14T15:11:46.171034Z"
    }
   },
   "outputs": [
    {
     "data": {
      "image/png": "[encoded data removed]",
      "text/plain": [
       "<Figure size 432x288 with 1 Axes>"
      ]
     },
     "metadata": {
      "needs_background": "light"
     },
     "output_type": "display_data"
    }
   ],
   "source": [
    "sns.barplot(x = luzon_ten[\"Price\"], y = luzon_ten[\"City\"], dodge=False, ci=None)\n",
    "plt.xlabel(\"Price\")\n",
    "plt.ylabel(\"City\")\n",
    "plt.title(\"Median House Price in each city in Luzon\")\n",
    "plt.show()"
   ]
  },
  {
   "cell_type": "code",
   "execution_count": 12,
   "id": "7f00f845",
   "metadata": {
    "ExecuteTime": {
     "end_time": "2022-12-14T15:11:46.359838Z",
     "start_time": "2022-12-14T15:11:46.345234Z"
    }
   },
   "outputs": [
    {
     "data": {
      "text/html": [
       "<div>\n",
       "<style scoped>\n",
       "    .dataframe tbody tr th:only-of-type {\n",
       "        vertical-align: middle;\n",
       "    }\n",
       "\n",
       "    .dataframe tbody tr th {\n",
       "        vertical-align: top;\n",
       "    }\n",
       "\n",
       "    .dataframe thead th {\n",
       "        text-align: right;\n",
       "    }\n",
       "</style>\n",
       "<table border=\"1\" class=\"dataframe\">\n",
       "  <thead>\n",
       "    <tr style=\"text-align: right;\">\n",
       "      <th></th>\n",
       "      <th>Type</th>\n",
       "      <th>City</th>\n",
       "      <th>Island</th>\n",
       "      <th>Price</th>\n",
       "    </tr>\n",
       "  </thead>\n",
       "  <tbody>\n",
       "    <tr>\n",
       "      <th>0</th>\n",
       "      <td>House</td>\n",
       "      <td>Malay</td>\n",
       "      <td>Visayas</td>\n",
       "      <td>370000000.0</td>\n",
       "    </tr>\n",
       "    <tr>\n",
       "      <th>8</th>\n",
       "      <td>House</td>\n",
       "      <td>Cebu</td>\n",
       "      <td>Visayas</td>\n",
       "      <td>38000000.0</td>\n",
       "    </tr>\n",
       "    <tr>\n",
       "      <th>19</th>\n",
       "      <td>House</td>\n",
       "      <td>Dauin</td>\n",
       "      <td>Visayas</td>\n",
       "      <td>21750000.0</td>\n",
       "    </tr>\n",
       "    <tr>\n",
       "      <th>29</th>\n",
       "      <td>House</td>\n",
       "      <td>Talisay</td>\n",
       "      <td>Visayas</td>\n",
       "      <td>14380000.0</td>\n",
       "    </tr>\n",
       "    <tr>\n",
       "      <th>31</th>\n",
       "      <td>House</td>\n",
       "      <td>Consolacion</td>\n",
       "      <td>Visayas</td>\n",
       "      <td>11000000.0</td>\n",
       "    </tr>\n",
       "    <tr>\n",
       "      <th>32</th>\n",
       "      <td>House</td>\n",
       "      <td>Dumaguete</td>\n",
       "      <td>Visayas</td>\n",
       "      <td>11000000.0</td>\n",
       "    </tr>\n",
       "    <tr>\n",
       "      <th>36</th>\n",
       "      <td>House</td>\n",
       "      <td>Bacong</td>\n",
       "      <td>Visayas</td>\n",
       "      <td>10500000.0</td>\n",
       "    </tr>\n",
       "    <tr>\n",
       "      <th>39</th>\n",
       "      <td>House</td>\n",
       "      <td>Negros Island Region</td>\n",
       "      <td>Visayas</td>\n",
       "      <td>10000000.0</td>\n",
       "    </tr>\n",
       "    <tr>\n",
       "      <th>42</th>\n",
       "      <td>House</td>\n",
       "      <td>Mandaue</td>\n",
       "      <td>Visayas</td>\n",
       "      <td>8500000.0</td>\n",
       "    </tr>\n",
       "    <tr>\n",
       "      <th>48</th>\n",
       "      <td>House</td>\n",
       "      <td>Danao</td>\n",
       "      <td>Visayas</td>\n",
       "      <td>8000000.0</td>\n",
       "    </tr>\n",
       "  </tbody>\n",
       "</table>\n",
       "</div>"
      ],
      "text/plain": [
       "     Type                  City   Island        Price\n",
       "0   House                 Malay  Visayas  370000000.0\n",
       "8   House                  Cebu  Visayas   38000000.0\n",
       "19  House                 Dauin  Visayas   21750000.0\n",
       "29  House               Talisay  Visayas   14380000.0\n",
       "31  House           Consolacion  Visayas   11000000.0\n",
       "32  House             Dumaguete  Visayas   11000000.0\n",
       "36  House                Bacong  Visayas   10500000.0\n",
       "39  House  Negros Island Region  Visayas   10000000.0\n",
       "42  House               Mandaue  Visayas    8500000.0\n",
       "48  House                 Danao  Visayas    8000000.0"
      ]
     },
     "execution_count": 12,
     "metadata": {},
     "output_type": "execute_result"
    }
   ],
   "source": [
    "r1cityvisayas = r1cityhouse[r1cityhouse.Island == \"Visayas\"]\n",
    "visayas_ten = r1cityvisayas.head(10)\n",
    "visayas_ten"
   ]
  },
  {
   "cell_type": "code",
   "execution_count": 13,
   "id": "36be8a96",
   "metadata": {
    "ExecuteTime": {
     "end_time": "2022-12-14T15:11:46.467812Z",
     "start_time": "2022-12-14T15:11:46.361839Z"
    }
   },
   "outputs": [
    {
     "data": {
      "image/png": "[encoded data removed]",
      "text/plain": [
       "<Figure size 432x288 with 1 Axes>"
      ]
     },
     "metadata": {
      "needs_background": "light"
     },
     "output_type": "display_data"
    }
   ],
   "source": [
    "sns.barplot(x = visayas_ten[\"Price\"], y = visayas_ten[\"City\"], dodge=False, ci=None)\n",
    "plt.xlabel(\"Price\")\n",
    "plt.ylabel(\"City\")\n",
    "plt.title(\"Median House Price in each city in Visayas\")\n",
    "plt.show()"
   ]
  },
  {
   "cell_type": "code",
   "execution_count": 14,
   "id": "2d97df36",
   "metadata": {
    "ExecuteTime": {
     "end_time": "2022-12-14T15:11:46.483797Z",
     "start_time": "2022-12-14T15:11:46.468742Z"
    }
   },
   "outputs": [
    {
     "data": {
      "text/html": [
       "<div>\n",
       "<style scoped>\n",
       "    .dataframe tbody tr th:only-of-type {\n",
       "        vertical-align: middle;\n",
       "    }\n",
       "\n",
       "    .dataframe tbody tr th {\n",
       "        vertical-align: top;\n",
       "    }\n",
       "\n",
       "    .dataframe thead th {\n",
       "        text-align: right;\n",
       "    }\n",
       "</style>\n",
       "<table border=\"1\" class=\"dataframe\">\n",
       "  <thead>\n",
       "    <tr style=\"text-align: right;\">\n",
       "      <th></th>\n",
       "      <th>Type</th>\n",
       "      <th>City</th>\n",
       "      <th>Island</th>\n",
       "      <th>Price</th>\n",
       "    </tr>\n",
       "  </thead>\n",
       "  <tbody>\n",
       "    <tr>\n",
       "      <th>30</th>\n",
       "      <td>House</td>\n",
       "      <td>Valencia</td>\n",
       "      <td>Mindanao</td>\n",
       "      <td>14250000.0</td>\n",
       "    </tr>\n",
       "  </tbody>\n",
       "</table>\n",
       "</div>"
      ],
      "text/plain": [
       "     Type      City    Island       Price\n",
       "30  House  Valencia  Mindanao  14250000.0"
      ]
     },
     "execution_count": 14,
     "metadata": {},
     "output_type": "execute_result"
    }
   ],
   "source": [
    "r1citymindanao = r1cityhouse[r1cityhouse.Island == \"Mindanao\"]\n",
    "mindanao_ten = r1citymindanao.head(10)\n",
    "mindanao_ten"
   ]
  },
  {
   "cell_type": "markdown",
   "id": "547e1aa8",
   "metadata": {},
   "source": [
    "#### City - Condo"
   ]
  },
  {
   "cell_type": "code",
   "execution_count": 15,
   "id": "6e27fd91",
   "metadata": {
    "ExecuteTime": {
     "end_time": "2022-12-14T15:11:46.874436Z",
     "start_time": "2022-12-14T15:11:46.485784Z"
    },
    "scrolled": true
   },
   "outputs": [
    {
     "data": {
      "text/html": [
       "<div>\n",
       "<style scoped>\n",
       "    .dataframe tbody tr th:only-of-type {\n",
       "        vertical-align: middle;\n",
       "    }\n",
       "\n",
       "    .dataframe tbody tr th {\n",
       "        vertical-align: top;\n",
       "    }\n",
       "\n",
       "    .dataframe thead th {\n",
       "        text-align: right;\n",
       "    }\n",
       "</style>\n",
       "<table border=\"1\" class=\"dataframe\">\n",
       "  <thead>\n",
       "    <tr style=\"text-align: right;\">\n",
       "      <th></th>\n",
       "      <th>Type</th>\n",
       "      <th>City</th>\n",
       "      <th>Island</th>\n",
       "      <th>Price</th>\n",
       "    </tr>\n",
       "  </thead>\n",
       "  <tbody>\n",
       "    <tr>\n",
       "      <th>26</th>\n",
       "      <td>Condo</td>\n",
       "      <td>Makati</td>\n",
       "      <td>Luzon</td>\n",
       "      <td>15000000.0</td>\n",
       "    </tr>\n",
       "    <tr>\n",
       "      <th>27</th>\n",
       "      <td>Condo</td>\n",
       "      <td>Taguig</td>\n",
       "      <td>Luzon</td>\n",
       "      <td>15000000.0</td>\n",
       "    </tr>\n",
       "    <tr>\n",
       "      <th>33</th>\n",
       "      <td>Condo</td>\n",
       "      <td>Baguio</td>\n",
       "      <td>Luzon</td>\n",
       "      <td>10857025.0</td>\n",
       "    </tr>\n",
       "    <tr>\n",
       "      <th>38</th>\n",
       "      <td>Condo</td>\n",
       "      <td>Pasig</td>\n",
       "      <td>Luzon</td>\n",
       "      <td>10000000.0</td>\n",
       "    </tr>\n",
       "    <tr>\n",
       "      <th>40</th>\n",
       "      <td>Condo</td>\n",
       "      <td>Lapu-Lapu</td>\n",
       "      <td>Luzon</td>\n",
       "      <td>9428000.0</td>\n",
       "    </tr>\n",
       "    <tr>\n",
       "      <th>45</th>\n",
       "      <td>Condo</td>\n",
       "      <td>Pasay</td>\n",
       "      <td>Luzon</td>\n",
       "      <td>8311000.0</td>\n",
       "    </tr>\n",
       "    <tr>\n",
       "      <th>47</th>\n",
       "      <td>Condo</td>\n",
       "      <td>Tagaytay</td>\n",
       "      <td>Luzon</td>\n",
       "      <td>8021500.0</td>\n",
       "    </tr>\n",
       "    <tr>\n",
       "      <th>50</th>\n",
       "      <td>Condo</td>\n",
       "      <td>Mandaluyong</td>\n",
       "      <td>Luzon</td>\n",
       "      <td>8000000.0</td>\n",
       "    </tr>\n",
       "    <tr>\n",
       "      <th>52</th>\n",
       "      <td>Condo</td>\n",
       "      <td>Muntinlupa</td>\n",
       "      <td>Luzon</td>\n",
       "      <td>7500000.0</td>\n",
       "    </tr>\n",
       "    <tr>\n",
       "      <th>54</th>\n",
       "      <td>Condo</td>\n",
       "      <td>Manila</td>\n",
       "      <td>Luzon</td>\n",
       "      <td>7000000.0</td>\n",
       "    </tr>\n",
       "  </tbody>\n",
       "</table>\n",
       "</div>"
      ],
      "text/plain": [
       "     Type         City Island       Price\n",
       "26  Condo       Makati  Luzon  15000000.0\n",
       "27  Condo       Taguig  Luzon  15000000.0\n",
       "33  Condo       Baguio  Luzon  10857025.0\n",
       "38  Condo        Pasig  Luzon  10000000.0\n",
       "40  Condo    Lapu-Lapu  Luzon   9428000.0\n",
       "45  Condo        Pasay  Luzon   8311000.0\n",
       "47  Condo     Tagaytay  Luzon   8021500.0\n",
       "50  Condo  Mandaluyong  Luzon   8000000.0\n",
       "52  Condo   Muntinlupa  Luzon   7500000.0\n",
       "54  Condo       Manila  Luzon   7000000.0"
      ]
     },
     "execution_count": 15,
     "metadata": {},
     "output_type": "execute_result"
    }
   ],
   "source": [
    "r1citycondo = r1city[r1city.Type == \"Condo\"]\n",
    "r1city_c_luzon = r1citycondo[r1citycondo.Island == \"Luzon\"]\n",
    "luzon_c_ten = r1city_c_luzon.head(10)\n",
    "luzon_c_ten"
   ]
  },
  {
   "cell_type": "code",
   "execution_count": 16,
   "id": "55b8bc2c",
   "metadata": {
    "ExecuteTime": {
     "end_time": "2022-12-14T15:11:46.967952Z",
     "start_time": "2022-12-14T15:11:46.876436Z"
    }
   },
   "outputs": [
    {
     "data": {
      "image/png": "[encoded data removed]",
      "text/plain": [
       "<Figure size 432x288 with 1 Axes>"
      ]
     },
     "metadata": {
      "needs_background": "light"
     },
     "output_type": "display_data"
    }
   ],
   "source": [
    "sns.barplot(x = luzon_c_ten[\"Price\"], y = luzon_c_ten[\"City\"], dodge=False, ci=None)\n",
    "plt.xlabel(\"Median Price\")\n",
    "plt.ylabel(\"City\")\n",
    "plt.title(\"Median Condo Price in each city in Luzon\")\n",
    "plt.show()"
   ]
  },
  {
   "cell_type": "code",
   "execution_count": 17,
   "id": "cc3a67a6",
   "metadata": {
    "ExecuteTime": {
     "end_time": "2022-12-14T15:11:46.983991Z",
     "start_time": "2022-12-14T15:11:46.969466Z"
    }
   },
   "outputs": [
    {
     "data": {
      "text/html": [
       "<div>\n",
       "<style scoped>\n",
       "    .dataframe tbody tr th:only-of-type {\n",
       "        vertical-align: middle;\n",
       "    }\n",
       "\n",
       "    .dataframe tbody tr th {\n",
       "        vertical-align: top;\n",
       "    }\n",
       "\n",
       "    .dataframe thead th {\n",
       "        text-align: right;\n",
       "    }\n",
       "</style>\n",
       "<table border=\"1\" class=\"dataframe\">\n",
       "  <thead>\n",
       "    <tr style=\"text-align: right;\">\n",
       "      <th></th>\n",
       "      <th>Type</th>\n",
       "      <th>City</th>\n",
       "      <th>Island</th>\n",
       "      <th>Price</th>\n",
       "    </tr>\n",
       "  </thead>\n",
       "  <tbody>\n",
       "    <tr>\n",
       "      <th>16</th>\n",
       "      <td>Condo</td>\n",
       "      <td>Malay</td>\n",
       "      <td>Visayas</td>\n",
       "      <td>25000000.0</td>\n",
       "    </tr>\n",
       "    <tr>\n",
       "      <th>22</th>\n",
       "      <td>Condo</td>\n",
       "      <td>Dauin</td>\n",
       "      <td>Visayas</td>\n",
       "      <td>17500000.0</td>\n",
       "    </tr>\n",
       "    <tr>\n",
       "      <th>35</th>\n",
       "      <td>Condo</td>\n",
       "      <td>Mandaue</td>\n",
       "      <td>Visayas</td>\n",
       "      <td>10601000.0</td>\n",
       "    </tr>\n",
       "    <tr>\n",
       "      <th>37</th>\n",
       "      <td>Condo</td>\n",
       "      <td>Dumaguete</td>\n",
       "      <td>Visayas</td>\n",
       "      <td>10000000.0</td>\n",
       "    </tr>\n",
       "    <tr>\n",
       "      <th>43</th>\n",
       "      <td>Condo</td>\n",
       "      <td>Cebu</td>\n",
       "      <td>Visayas</td>\n",
       "      <td>8335000.0</td>\n",
       "    </tr>\n",
       "    <tr>\n",
       "      <th>74</th>\n",
       "      <td>Condo</td>\n",
       "      <td>Bacolod</td>\n",
       "      <td>Visayas</td>\n",
       "      <td>4317000.0</td>\n",
       "    </tr>\n",
       "    <tr>\n",
       "      <th>90</th>\n",
       "      <td>Condo</td>\n",
       "      <td>Iloilo</td>\n",
       "      <td>Visayas</td>\n",
       "      <td>3116500.0</td>\n",
       "    </tr>\n",
       "  </tbody>\n",
       "</table>\n",
       "</div>"
      ],
      "text/plain": [
       "     Type       City   Island       Price\n",
       "16  Condo      Malay  Visayas  25000000.0\n",
       "22  Condo      Dauin  Visayas  17500000.0\n",
       "35  Condo    Mandaue  Visayas  10601000.0\n",
       "37  Condo  Dumaguete  Visayas  10000000.0\n",
       "43  Condo       Cebu  Visayas   8335000.0\n",
       "74  Condo    Bacolod  Visayas   4317000.0\n",
       "90  Condo     Iloilo  Visayas   3116500.0"
      ]
     },
     "execution_count": 17,
     "metadata": {},
     "output_type": "execute_result"
    }
   ],
   "source": [
    "r1city_c_visayas = r1citycondo[r1citycondo.Island == \"Visayas\"]\n",
    "visayas_c_ten = r1city_c_visayas.head(10)\n",
    "visayas_c_ten"
   ]
  },
  {
   "cell_type": "code",
   "execution_count": 18,
   "id": "495ae769",
   "metadata": {
    "ExecuteTime": {
     "end_time": "2022-12-14T15:11:47.077731Z",
     "start_time": "2022-12-14T15:11:46.985989Z"
    }
   },
   "outputs": [
    {
     "data": {
      "image/png": "[encoded data removed]",
      "text/plain": [
       "<Figure size 432x288 with 1 Axes>"
      ]
     },
     "metadata": {
      "needs_background": "light"
     },
     "output_type": "display_data"
    }
   ],
   "source": [
    "sns.barplot(x = visayas_c_ten[\"Price\"], y = visayas_c_ten[\"City\"], dodge=False, ci=None)\n",
    "plt.xlabel(\"Median Price\")\n",
    "plt.ylabel(\"City\")\n",
    "plt.title(\"Median House Price in each city in Visayas\")\n",
    "plt.show()"
   ]
  },
  {
   "cell_type": "code",
   "execution_count": 19,
   "id": "cbbaaaed",
   "metadata": {
    "ExecuteTime": {
     "end_time": "2022-12-14T15:11:47.093781Z",
     "start_time": "2022-12-14T15:11:47.080264Z"
    }
   },
   "outputs": [
    {
     "data": {
      "text/html": [
       "<div>\n",
       "<style scoped>\n",
       "    .dataframe tbody tr th:only-of-type {\n",
       "        vertical-align: middle;\n",
       "    }\n",
       "\n",
       "    .dataframe tbody tr th {\n",
       "        vertical-align: top;\n",
       "    }\n",
       "\n",
       "    .dataframe thead th {\n",
       "        text-align: right;\n",
       "    }\n",
       "</style>\n",
       "<table border=\"1\" class=\"dataframe\">\n",
       "  <thead>\n",
       "    <tr style=\"text-align: right;\">\n",
       "      <th></th>\n",
       "      <th>Type</th>\n",
       "      <th>City</th>\n",
       "      <th>Island</th>\n",
       "      <th>Price</th>\n",
       "    </tr>\n",
       "  </thead>\n",
       "  <tbody>\n",
       "    <tr>\n",
       "      <th>88</th>\n",
       "      <td>Condo</td>\n",
       "      <td>Cagayan de Oro</td>\n",
       "      <td>Mindanao</td>\n",
       "      <td>3271000.0</td>\n",
       "    </tr>\n",
       "  </tbody>\n",
       "</table>\n",
       "</div>"
      ],
      "text/plain": [
       "     Type            City    Island      Price\n",
       "88  Condo  Cagayan de Oro  Mindanao  3271000.0"
      ]
     },
     "execution_count": 19,
     "metadata": {},
     "output_type": "execute_result"
    }
   ],
   "source": [
    "r1city_c_mindanao = r1citycondo[r1citycondo.Island == \"Mindanao\"]\n",
    "mindanao_c__ten = r1city_c_mindanao.head(10)\n",
    "mindanao_c__ten"
   ]
  },
  {
   "cell_type": "markdown",
   "id": "2ed9c3d6",
   "metadata": {},
   "source": [
    "#### Findings:\n",
    "Among all the cities in Luzon, makati has the largest median price in both houses and condos and among all the cities in Visayas, cebu has the largest median price in houses and malay  has the largest median price in condos"
   ]
  },
  {
   "cell_type": "markdown",
   "id": "d13822ec",
   "metadata": {},
   "source": [
    "#### Region - House"
   ]
  },
  {
   "cell_type": "code",
   "execution_count": 20,
   "id": "25cee073",
   "metadata": {
    "ExecuteTime": {
     "end_time": "2022-12-14T15:11:47.109850Z",
     "start_time": "2022-12-14T15:11:47.095781Z"
    }
   },
   "outputs": [
    {
     "data": {
      "text/html": [
       "<div>\n",
       "<style scoped>\n",
       "    .dataframe tbody tr th:only-of-type {\n",
       "        vertical-align: middle;\n",
       "    }\n",
       "\n",
       "    .dataframe tbody tr th {\n",
       "        vertical-align: top;\n",
       "    }\n",
       "\n",
       "    .dataframe thead th {\n",
       "        text-align: right;\n",
       "    }\n",
       "</style>\n",
       "<table border=\"1\" class=\"dataframe\">\n",
       "  <thead>\n",
       "    <tr style=\"text-align: right;\">\n",
       "      <th></th>\n",
       "      <th>Type</th>\n",
       "      <th>Region</th>\n",
       "      <th>Price</th>\n",
       "    </tr>\n",
       "  </thead>\n",
       "  <tbody>\n",
       "    <tr>\n",
       "      <th>0</th>\n",
       "      <td>House</td>\n",
       "      <td>Western Visayas</td>\n",
       "      <td>370000000.0</td>\n",
       "    </tr>\n",
       "    <tr>\n",
       "      <th>1</th>\n",
       "      <td>House</td>\n",
       "      <td>National Capital Region</td>\n",
       "      <td>32250000.0</td>\n",
       "    </tr>\n",
       "    <tr>\n",
       "      <th>2</th>\n",
       "      <td>House</td>\n",
       "      <td>Cordillera Administrative Region</td>\n",
       "      <td>18000000.0</td>\n",
       "    </tr>\n",
       "    <tr>\n",
       "      <th>3</th>\n",
       "      <td>House</td>\n",
       "      <td>Northern Mindanao</td>\n",
       "      <td>14250000.0</td>\n",
       "    </tr>\n",
       "    <tr>\n",
       "      <th>4</th>\n",
       "      <td>House</td>\n",
       "      <td>Central Visayas</td>\n",
       "      <td>11500000.0</td>\n",
       "    </tr>\n",
       "    <tr>\n",
       "      <th>5</th>\n",
       "      <td>Condo</td>\n",
       "      <td>Cordillera Administrative Region</td>\n",
       "      <td>10857025.0</td>\n",
       "    </tr>\n",
       "    <tr>\n",
       "      <th>6</th>\n",
       "      <td>House</td>\n",
       "      <td>Calabarzon</td>\n",
       "      <td>10800000.0</td>\n",
       "    </tr>\n",
       "    <tr>\n",
       "      <th>7</th>\n",
       "      <td>Condo</td>\n",
       "      <td>Central Visayas</td>\n",
       "      <td>10000000.0</td>\n",
       "    </tr>\n",
       "    <tr>\n",
       "      <th>8</th>\n",
       "      <td>Condo</td>\n",
       "      <td>National Capital Region</td>\n",
       "      <td>9671600.0</td>\n",
       "    </tr>\n",
       "    <tr>\n",
       "      <th>9</th>\n",
       "      <td>Condo</td>\n",
       "      <td>Calabarzon</td>\n",
       "      <td>5349540.0</td>\n",
       "    </tr>\n",
       "    <tr>\n",
       "      <th>10</th>\n",
       "      <td>Condo</td>\n",
       "      <td>Ilocos Region</td>\n",
       "      <td>5146266.0</td>\n",
       "    </tr>\n",
       "    <tr>\n",
       "      <th>11</th>\n",
       "      <td>Condo</td>\n",
       "      <td>Western Visayas</td>\n",
       "      <td>4255000.0</td>\n",
       "    </tr>\n",
       "    <tr>\n",
       "      <th>12</th>\n",
       "      <td>Condo</td>\n",
       "      <td>Northern Mindanao</td>\n",
       "      <td>3271000.0</td>\n",
       "    </tr>\n",
       "    <tr>\n",
       "      <th>13</th>\n",
       "      <td>House</td>\n",
       "      <td>Central Luzon</td>\n",
       "      <td>3180500.0</td>\n",
       "    </tr>\n",
       "    <tr>\n",
       "      <th>14</th>\n",
       "      <td>Condo</td>\n",
       "      <td>Central Luzon</td>\n",
       "      <td>2885000.0</td>\n",
       "    </tr>\n",
       "  </tbody>\n",
       "</table>\n",
       "</div>"
      ],
      "text/plain": [
       "     Type                            Region        Price\n",
       "0   House                   Western Visayas  370000000.0\n",
       "1   House           National Capital Region   32250000.0\n",
       "2   House  Cordillera Administrative Region   18000000.0\n",
       "3   House                 Northern Mindanao   14250000.0\n",
       "4   House                   Central Visayas   11500000.0\n",
       "5   Condo  Cordillera Administrative Region   10857025.0\n",
       "6   House                        Calabarzon   10800000.0\n",
       "7   Condo                   Central Visayas   10000000.0\n",
       "8   Condo           National Capital Region    9671600.0\n",
       "9   Condo                        Calabarzon    5349540.0\n",
       "10  Condo                     Ilocos Region    5146266.0\n",
       "11  Condo                   Western Visayas    4255000.0\n",
       "12  Condo                 Northern Mindanao    3271000.0\n",
       "13  House                     Central Luzon    3180500.0\n",
       "14  Condo                     Central Luzon    2885000.0"
      ]
     },
     "execution_count": 20,
     "metadata": {},
     "output_type": "execute_result"
    }
   ],
   "source": [
    "r1region = df.groupby(['Type', 'Region'])['Price'].median().sort_values(ascending=False).reset_index()\n",
    "r1region"
   ]
  },
  {
   "cell_type": "code",
   "execution_count": 21,
   "id": "c75f0e93",
   "metadata": {
    "ExecuteTime": {
     "end_time": "2022-12-14T15:11:47.219368Z",
     "start_time": "2022-12-14T15:11:47.110849Z"
    }
   },
   "outputs": [
    {
     "data": {
      "image/png": "[encoded data removed]",
      "text/plain": [
       "<Figure size 1440x1008 with 1 Axes>"
      ]
     },
     "metadata": {
      "needs_background": "light"
     },
     "output_type": "display_data"
    }
   ],
   "source": [
    "plt.figure(figsize=(20,14))\n",
    "r1regionhouse = r1region[r1region.Type == \"House\"]\n",
    "sns.barplot(x = r1regionhouse[\"Region\"], y = r1regionhouse[\"Price\"], dodge=False, ci=None)\n",
    "plt.xlabel(\"Region\")\n",
    "plt.ylabel(\"Price\")\n",
    "plt.title(\"Median House Price in each region\")\n",
    "plt.show()"
   ]
  },
  {
   "cell_type": "markdown",
   "id": "cbeaac08",
   "metadata": {},
   "source": [
    "#### Region - Condo "
   ]
  },
  {
   "cell_type": "code",
   "execution_count": 22,
   "id": "c572e52e",
   "metadata": {
    "ExecuteTime": {
     "end_time": "2022-12-14T15:11:47.234900Z",
     "start_time": "2022-12-14T15:11:47.220366Z"
    }
   },
   "outputs": [],
   "source": [
    "r1region = df.groupby(['Type', 'Region'])['Price'].median().sort_values(ascending=False).reset_index()"
   ]
  },
  {
   "cell_type": "code",
   "execution_count": 23,
   "id": "dacd0db1",
   "metadata": {
    "ExecuteTime": {
     "end_time": "2022-12-14T15:11:47.250946Z",
     "start_time": "2022-12-14T15:11:47.235893Z"
    }
   },
   "outputs": [
    {
     "data": {
      "text/html": [
       "<div>\n",
       "<style scoped>\n",
       "    .dataframe tbody tr th:only-of-type {\n",
       "        vertical-align: middle;\n",
       "    }\n",
       "\n",
       "    .dataframe tbody tr th {\n",
       "        vertical-align: top;\n",
       "    }\n",
       "\n",
       "    .dataframe thead th {\n",
       "        text-align: right;\n",
       "    }\n",
       "</style>\n",
       "<table border=\"1\" class=\"dataframe\">\n",
       "  <thead>\n",
       "    <tr style=\"text-align: right;\">\n",
       "      <th></th>\n",
       "      <th>Type</th>\n",
       "      <th>Region</th>\n",
       "      <th>Price</th>\n",
       "    </tr>\n",
       "  </thead>\n",
       "  <tbody>\n",
       "    <tr>\n",
       "      <th>5</th>\n",
       "      <td>Condo</td>\n",
       "      <td>Cordillera Administrative Region</td>\n",
       "      <td>10857025.0</td>\n",
       "    </tr>\n",
       "    <tr>\n",
       "      <th>7</th>\n",
       "      <td>Condo</td>\n",
       "      <td>Central Visayas</td>\n",
       "      <td>10000000.0</td>\n",
       "    </tr>\n",
       "    <tr>\n",
       "      <th>8</th>\n",
       "      <td>Condo</td>\n",
       "      <td>National Capital Region</td>\n",
       "      <td>9671600.0</td>\n",
       "    </tr>\n",
       "    <tr>\n",
       "      <th>9</th>\n",
       "      <td>Condo</td>\n",
       "      <td>Calabarzon</td>\n",
       "      <td>5349540.0</td>\n",
       "    </tr>\n",
       "    <tr>\n",
       "      <th>10</th>\n",
       "      <td>Condo</td>\n",
       "      <td>Ilocos Region</td>\n",
       "      <td>5146266.0</td>\n",
       "    </tr>\n",
       "    <tr>\n",
       "      <th>11</th>\n",
       "      <td>Condo</td>\n",
       "      <td>Western Visayas</td>\n",
       "      <td>4255000.0</td>\n",
       "    </tr>\n",
       "    <tr>\n",
       "      <th>12</th>\n",
       "      <td>Condo</td>\n",
       "      <td>Northern Mindanao</td>\n",
       "      <td>3271000.0</td>\n",
       "    </tr>\n",
       "    <tr>\n",
       "      <th>14</th>\n",
       "      <td>Condo</td>\n",
       "      <td>Central Luzon</td>\n",
       "      <td>2885000.0</td>\n",
       "    </tr>\n",
       "  </tbody>\n",
       "</table>\n",
       "</div>"
      ],
      "text/plain": [
       "     Type                            Region       Price\n",
       "5   Condo  Cordillera Administrative Region  10857025.0\n",
       "7   Condo                   Central Visayas  10000000.0\n",
       "8   Condo           National Capital Region   9671600.0\n",
       "9   Condo                        Calabarzon   5349540.0\n",
       "10  Condo                     Ilocos Region   5146266.0\n",
       "11  Condo                   Western Visayas   4255000.0\n",
       "12  Condo                 Northern Mindanao   3271000.0\n",
       "14  Condo                     Central Luzon   2885000.0"
      ]
     },
     "execution_count": 23,
     "metadata": {},
     "output_type": "execute_result"
    }
   ],
   "source": [
    "r1regioncondo = r1region[r1region.Type == \"Condo\"]\n",
    "r1regioncondo"
   ]
  },
  {
   "cell_type": "code",
   "execution_count": 24,
   "id": "1e142b6b",
   "metadata": {
    "ExecuteTime": {
     "end_time": "2022-12-14T15:11:47.360766Z",
     "start_time": "2022-12-14T15:11:47.252943Z"
    }
   },
   "outputs": [
    {
     "data": {
      "image/png": "[encoded data removed]",
      "text/plain": [
       "<Figure size 1440x1008 with 1 Axes>"
      ]
     },
     "metadata": {
      "needs_background": "light"
     },
     "output_type": "display_data"
    }
   ],
   "source": [
    "plt.figure(figsize=(20,14))\n",
    "sns.barplot(x = r1regioncondo[\"Region\"], y = r1regioncondo[\"Price\"], dodge=False, ci=None)\n",
    "plt.xlabel(\"Region\")\n",
    "plt.ylabel(\"Price\")\n",
    "plt.title(\"Median House Price in each region\")\n",
    "plt.show()"
   ]
  },
  {
   "cell_type": "markdown",
   "id": "5d487445",
   "metadata": {},
   "source": [
    "#### Findings: \n",
    "Grouping the data by region, we can see that NCR has the largest  median price in houses and cordillera administrative region  has the largest median price in condos"
   ]
  },
  {
   "cell_type": "markdown",
   "id": "af920ef1",
   "metadata": {},
   "source": [
    "#### Island - House"
   ]
  },
  {
   "cell_type": "code",
   "execution_count": 25,
   "id": "18a4a7c8",
   "metadata": {
    "ExecuteTime": {
     "end_time": "2022-12-14T15:11:47.376230Z",
     "start_time": "2022-12-14T15:11:47.361695Z"
    }
   },
   "outputs": [
    {
     "data": {
      "text/html": [
       "<div>\n",
       "<style scoped>\n",
       "    .dataframe tbody tr th:only-of-type {\n",
       "        vertical-align: middle;\n",
       "    }\n",
       "\n",
       "    .dataframe tbody tr th {\n",
       "        vertical-align: top;\n",
       "    }\n",
       "\n",
       "    .dataframe thead th {\n",
       "        text-align: right;\n",
       "    }\n",
       "</style>\n",
       "<table border=\"1\" class=\"dataframe\">\n",
       "  <thead>\n",
       "    <tr style=\"text-align: right;\">\n",
       "      <th></th>\n",
       "      <th>Type</th>\n",
       "      <th>Island</th>\n",
       "      <th>Price</th>\n",
       "    </tr>\n",
       "  </thead>\n",
       "  <tbody>\n",
       "    <tr>\n",
       "      <th>0</th>\n",
       "      <td>House</td>\n",
       "      <td>Luzon</td>\n",
       "      <td>25000000.0</td>\n",
       "    </tr>\n",
       "    <tr>\n",
       "      <th>1</th>\n",
       "      <td>House</td>\n",
       "      <td>Mindanao</td>\n",
       "      <td>14250000.0</td>\n",
       "    </tr>\n",
       "    <tr>\n",
       "      <th>2</th>\n",
       "      <td>House</td>\n",
       "      <td>Visayas</td>\n",
       "      <td>11500000.0</td>\n",
       "    </tr>\n",
       "    <tr>\n",
       "      <th>3</th>\n",
       "      <td>Condo</td>\n",
       "      <td>Visayas</td>\n",
       "      <td>9235000.0</td>\n",
       "    </tr>\n",
       "    <tr>\n",
       "      <th>4</th>\n",
       "      <td>Condo</td>\n",
       "      <td>Luzon</td>\n",
       "      <td>9000000.0</td>\n",
       "    </tr>\n",
       "    <tr>\n",
       "      <th>5</th>\n",
       "      <td>Condo</td>\n",
       "      <td>Mindanao</td>\n",
       "      <td>3271000.0</td>\n",
       "    </tr>\n",
       "  </tbody>\n",
       "</table>\n",
       "</div>"
      ],
      "text/plain": [
       "    Type    Island       Price\n",
       "0  House     Luzon  25000000.0\n",
       "1  House  Mindanao  14250000.0\n",
       "2  House   Visayas  11500000.0\n",
       "3  Condo   Visayas   9235000.0\n",
       "4  Condo     Luzon   9000000.0\n",
       "5  Condo  Mindanao   3271000.0"
      ]
     },
     "execution_count": 25,
     "metadata": {},
     "output_type": "execute_result"
    }
   ],
   "source": [
    "r1island = df.groupby(['Type', 'Island'])['Price'].median().sort_values(ascending=False).reset_index()\n",
    "r1island"
   ]
  },
  {
   "cell_type": "code",
   "execution_count": 26,
   "id": "199c1c30",
   "metadata": {
    "ExecuteTime": {
     "end_time": "2022-12-14T15:11:47.391873Z",
     "start_time": "2022-12-14T15:11:47.377738Z"
    }
   },
   "outputs": [],
   "source": [
    "colors={'Luzon':'red', \n",
    "        'Visayas':'green',\n",
    "        'Mindanao':'blue'}"
   ]
  },
  {
   "cell_type": "code",
   "execution_count": 27,
   "id": "d2648603",
   "metadata": {
    "ExecuteTime": {
     "end_time": "2022-12-14T15:11:47.455057Z",
     "start_time": "2022-12-14T15:11:47.393870Z"
    }
   },
   "outputs": [
    {
     "data": {
      "image/png": "[encoded data removed]",
      "text/plain": [
       "<Figure size 432x288 with 1 Axes>"
      ]
     },
     "metadata": {},
     "output_type": "display_data"
    }
   ],
   "source": [
    "r1islandhouse = r1island[r1island.Type == \"House\"]\n",
    "plt.title(\"Median House Price in each Island\")\n",
    "plt.pie(r1islandhouse[\"Price\"], labels = r1islandhouse[\"Island\"], colors=[colors[x] for x in r1islandhouse[\"Island\"].value_counts().keys()])\n",
    "plt.show()"
   ]
  },
  {
   "cell_type": "markdown",
   "id": "e4f05ae4",
   "metadata": {},
   "source": [
    "#### Island - Condo"
   ]
  },
  {
   "cell_type": "code",
   "execution_count": 28,
   "id": "5c0a347c",
   "metadata": {
    "ExecuteTime": {
     "end_time": "2022-12-14T15:11:47.471111Z",
     "start_time": "2022-12-14T15:11:47.458569Z"
    }
   },
   "outputs": [],
   "source": [
    "r1island = df.groupby(['Type', 'Island'])['Price'].median().sort_values(ascending=False).reset_index()"
   ]
  },
  {
   "cell_type": "code",
   "execution_count": 29,
   "id": "ae22d9b3",
   "metadata": {
    "ExecuteTime": {
     "end_time": "2022-12-14T15:11:47.486634Z",
     "start_time": "2022-12-14T15:11:47.472115Z"
    }
   },
   "outputs": [],
   "source": [
    "colors={'Luzon':'red', \n",
    "        'Visayas':'green',\n",
    "        'Mindanao':'blue'}"
   ]
  },
  {
   "cell_type": "code",
   "execution_count": 30,
   "id": "e2a180f5",
   "metadata": {
    "ExecuteTime": {
     "end_time": "2022-12-14T15:11:47.502669Z",
     "start_time": "2022-12-14T15:11:47.488145Z"
    }
   },
   "outputs": [
    {
     "data": {
      "text/html": [
       "<div>\n",
       "<style scoped>\n",
       "    .dataframe tbody tr th:only-of-type {\n",
       "        vertical-align: middle;\n",
       "    }\n",
       "\n",
       "    .dataframe tbody tr th {\n",
       "        vertical-align: top;\n",
       "    }\n",
       "\n",
       "    .dataframe thead th {\n",
       "        text-align: right;\n",
       "    }\n",
       "</style>\n",
       "<table border=\"1\" class=\"dataframe\">\n",
       "  <thead>\n",
       "    <tr style=\"text-align: right;\">\n",
       "      <th></th>\n",
       "      <th>Type</th>\n",
       "      <th>Island</th>\n",
       "      <th>Price</th>\n",
       "    </tr>\n",
       "  </thead>\n",
       "  <tbody>\n",
       "    <tr>\n",
       "      <th>3</th>\n",
       "      <td>Condo</td>\n",
       "      <td>Visayas</td>\n",
       "      <td>9235000.0</td>\n",
       "    </tr>\n",
       "    <tr>\n",
       "      <th>4</th>\n",
       "      <td>Condo</td>\n",
       "      <td>Luzon</td>\n",
       "      <td>9000000.0</td>\n",
       "    </tr>\n",
       "    <tr>\n",
       "      <th>5</th>\n",
       "      <td>Condo</td>\n",
       "      <td>Mindanao</td>\n",
       "      <td>3271000.0</td>\n",
       "    </tr>\n",
       "  </tbody>\n",
       "</table>\n",
       "</div>"
      ],
      "text/plain": [
       "    Type    Island      Price\n",
       "3  Condo   Visayas  9235000.0\n",
       "4  Condo     Luzon  9000000.0\n",
       "5  Condo  Mindanao  3271000.0"
      ]
     },
     "execution_count": 30,
     "metadata": {},
     "output_type": "execute_result"
    }
   ],
   "source": [
    "r1islandcondo = r1island[r1island.Type == \"Condo\"]\n",
    "r1islandcondo"
   ]
  },
  {
   "cell_type": "code",
   "execution_count": 31,
   "id": "8cd4a1aa",
   "metadata": {
    "ExecuteTime": {
     "end_time": "2022-12-14T15:11:47.565277Z",
     "start_time": "2022-12-14T15:11:47.504669Z"
    },
    "scrolled": true
   },
   "outputs": [
    {
     "data": {
      "image/png": "[encoded data removed]",
      "text/plain": [
       "<Figure size 432x288 with 1 Axes>"
      ]
     },
     "metadata": {},
     "output_type": "display_data"
    }
   ],
   "source": [
    "r1islandcondo = r1island[r1island.Type == \"Condo\"]\n",
    "plt.pie(r1islandcondo[\"Price\"], labels = r1islandcondo[\"Island\"], colors=[colors[x] for x in r1islandcondo[\"Island\"].value_counts().keys()])\n",
    "plt.title(\"Median Condo Price in each Island\")\n",
    "plt.show()"
   ]
  },
  {
   "cell_type": "markdown",
   "id": "3cabfeba",
   "metadata": {},
   "source": [
    "#### Findings: \n",
    "Grouping the data by island, we can see that Luzon has the largest  median price in houses and visayas  has the largest median price in condos"
   ]
  },
  {
   "cell_type": "markdown",
   "id": "c1dc21d0",
   "metadata": {},
   "source": [
    "### EDA#4: What is the median price of condos and houses of a given land developer? "
   ]
  },
  {
   "cell_type": "markdown",
   "id": "7d7e13c1",
   "metadata": {},
   "source": [
    "#### House"
   ]
  },
  {
   "cell_type": "code",
   "execution_count": 32,
   "id": "48a4b566",
   "metadata": {
    "ExecuteTime": {
     "end_time": "2022-12-14T15:11:47.581324Z",
     "start_time": "2022-12-14T15:11:47.566277Z"
    },
    "scrolled": false
   },
   "outputs": [
    {
     "data": {
      "text/html": [
       "<div>\n",
       "<style scoped>\n",
       "    .dataframe tbody tr th:only-of-type {\n",
       "        vertical-align: middle;\n",
       "    }\n",
       "\n",
       "    .dataframe tbody tr th {\n",
       "        vertical-align: top;\n",
       "    }\n",
       "\n",
       "    .dataframe thead th {\n",
       "        text-align: right;\n",
       "    }\n",
       "</style>\n",
       "<table border=\"1\" class=\"dataframe\">\n",
       "  <thead>\n",
       "    <tr style=\"text-align: right;\">\n",
       "      <th></th>\n",
       "      <th>Author</th>\n",
       "      <th>Price</th>\n",
       "    </tr>\n",
       "  </thead>\n",
       "  <tbody>\n",
       "    <tr>\n",
       "      <th>0</th>\n",
       "      <td>Angelique Toreja</td>\n",
       "      <td>85000000.0</td>\n",
       "    </tr>\n",
       "    <tr>\n",
       "      <th>1</th>\n",
       "      <td>Patricia Marquez</td>\n",
       "      <td>52000000.0</td>\n",
       "    </tr>\n",
       "    <tr>\n",
       "      <th>2</th>\n",
       "      <td>Raimund</td>\n",
       "      <td>46000000.0</td>\n",
       "    </tr>\n",
       "    <tr>\n",
       "      <th>3</th>\n",
       "      <td>Myra Malinao</td>\n",
       "      <td>28500000.0</td>\n",
       "    </tr>\n",
       "    <tr>\n",
       "      <th>4</th>\n",
       "      <td>Arlene Cadavedo</td>\n",
       "      <td>23000000.0</td>\n",
       "    </tr>\n",
       "    <tr>\n",
       "      <th>5</th>\n",
       "      <td>Monique Sison</td>\n",
       "      <td>18500000.0</td>\n",
       "    </tr>\n",
       "    <tr>\n",
       "      <th>6</th>\n",
       "      <td>Joshua Seastres</td>\n",
       "      <td>17841080.0</td>\n",
       "    </tr>\n",
       "    <tr>\n",
       "      <th>7</th>\n",
       "      <td>John</td>\n",
       "      <td>16500000.0</td>\n",
       "    </tr>\n",
       "    <tr>\n",
       "      <th>8</th>\n",
       "      <td>Henry Sedeño</td>\n",
       "      <td>13650000.0</td>\n",
       "    </tr>\n",
       "    <tr>\n",
       "      <th>9</th>\n",
       "      <td>Jake Lacson</td>\n",
       "      <td>11500000.0</td>\n",
       "    </tr>\n",
       "  </tbody>\n",
       "</table>\n",
       "</div>"
      ],
      "text/plain": [
       "             Author       Price\n",
       "0  Angelique Toreja  85000000.0\n",
       "1  Patricia Marquez  52000000.0\n",
       "2           Raimund  46000000.0\n",
       "3      Myra Malinao  28500000.0\n",
       "4   Arlene Cadavedo  23000000.0\n",
       "5     Monique Sison  18500000.0\n",
       "6   Joshua Seastres  17841080.0\n",
       "7              John  16500000.0\n",
       "8      Henry Sedeño  13650000.0\n",
       "9       Jake Lacson  11500000.0"
      ]
     },
     "execution_count": 32,
     "metadata": {},
     "output_type": "execute_result"
    }
   ],
   "source": [
    "r2author = df[df.Type == \"House\"]\n",
    "top_ten = r2author[\"Author\"].value_counts().index[:10]\n",
    "top_ten\n",
    "\n",
    "top_ten_df = r2author[r2author['Author'].isin(top_ten)]\n",
    "top_ten_df\n",
    "\n",
    "r2author = top_ten_df.groupby('Author')['Price'].median().sort_values(ascending=False).reset_index()\n",
    "r2author"
   ]
  },
  {
   "cell_type": "code",
   "execution_count": 33,
   "id": "08ead07a",
   "metadata": {
    "ExecuteTime": {
     "end_time": "2022-12-14T15:11:47.722142Z",
     "start_time": "2022-12-14T15:11:47.583320Z"
    }
   },
   "outputs": [
    {
     "data": {
      "image/png": "[encoded data removed]",
      "text/plain": [
       "<Figure size 1440x1008 with 1 Axes>"
      ]
     },
     "metadata": {
      "needs_background": "light"
     },
     "output_type": "display_data"
    }
   ],
   "source": [
    "plt.figure(figsize=(20,14))\n",
    "sns.barplot(x = r2author[\"Author\"], y=r2author[\"Price\"], dodge=False, ci=None)\n",
    "plt.xlabel(\"Author\")\n",
    "plt.ylabel(\"Price\")\n",
    "plt.title(\"Median House Price of a given land developer\")\n",
    "plt.show()"
   ]
  },
  {
   "cell_type": "markdown",
   "id": "d9fb9286",
   "metadata": {},
   "source": [
    "#### Findings: \n",
    "After getting the top 10 developers from our data, it can be seen that the median prices range from 11.5 mil to 88.5 mill\n",
    "Angelica Toreja who is top 1 land dev of houses has a median house price of 88.5 mil \n"
   ]
  },
  {
   "cell_type": "markdown",
   "id": "62fb5d0c",
   "metadata": {},
   "source": [
    "#### Condo"
   ]
  },
  {
   "cell_type": "code",
   "execution_count": 34,
   "id": "4f4aeea3",
   "metadata": {
    "ExecuteTime": {
     "end_time": "2022-12-14T15:11:47.738069Z",
     "start_time": "2022-12-14T15:11:47.724139Z"
    },
    "scrolled": false
   },
   "outputs": [
    {
     "data": {
      "text/html": [
       "<div>\n",
       "<style scoped>\n",
       "    .dataframe tbody tr th:only-of-type {\n",
       "        vertical-align: middle;\n",
       "    }\n",
       "\n",
       "    .dataframe tbody tr th {\n",
       "        vertical-align: top;\n",
       "    }\n",
       "\n",
       "    .dataframe thead th {\n",
       "        text-align: right;\n",
       "    }\n",
       "</style>\n",
       "<table border=\"1\" class=\"dataframe\">\n",
       "  <thead>\n",
       "    <tr style=\"text-align: right;\">\n",
       "      <th></th>\n",
       "      <th>Author</th>\n",
       "      <th>Price</th>\n",
       "    </tr>\n",
       "  </thead>\n",
       "  <tbody>\n",
       "    <tr>\n",
       "      <th>0</th>\n",
       "      <td>Patricia Marquez</td>\n",
       "      <td>33000000.0</td>\n",
       "    </tr>\n",
       "    <tr>\n",
       "      <th>1</th>\n",
       "      <td>Angelique Toreja</td>\n",
       "      <td>21500000.0</td>\n",
       "    </tr>\n",
       "    <tr>\n",
       "      <th>2</th>\n",
       "      <td>Jake Lacson</td>\n",
       "      <td>13750000.0</td>\n",
       "    </tr>\n",
       "    <tr>\n",
       "      <th>3</th>\n",
       "      <td>Raimund</td>\n",
       "      <td>12105000.0</td>\n",
       "    </tr>\n",
       "    <tr>\n",
       "      <th>4</th>\n",
       "      <td>Joshua Seastres</td>\n",
       "      <td>6501500.0</td>\n",
       "    </tr>\n",
       "    <tr>\n",
       "      <th>5</th>\n",
       "      <td>Henry Sedeño</td>\n",
       "      <td>2000000.0</td>\n",
       "    </tr>\n",
       "  </tbody>\n",
       "</table>\n",
       "</div>"
      ],
      "text/plain": [
       "             Author       Price\n",
       "0  Patricia Marquez  33000000.0\n",
       "1  Angelique Toreja  21500000.0\n",
       "2       Jake Lacson  13750000.0\n",
       "3           Raimund  12105000.0\n",
       "4   Joshua Seastres   6501500.0\n",
       "5      Henry Sedeño   2000000.0"
      ]
     },
     "execution_count": 34,
     "metadata": {},
     "output_type": "execute_result"
    }
   ],
   "source": [
    "r2author_c = df[df.Type == \"Condo\"]\n",
    "top_ten_c = r2author_c[\"Author\"].value_counts().index[:10]\n",
    "top_ten_c\n",
    "\n",
    "top_ten_c_df = r2author_c[r2author_c['Author'].isin(top_ten)]\n",
    "top_ten_c_df\n",
    "\n",
    "r2author_c = top_ten_c_df.groupby('Author')['Price'].median().sort_values(ascending=False).reset_index()\n",
    "r2author_c"
   ]
  },
  {
   "cell_type": "code",
   "execution_count": 35,
   "id": "ac003b03",
   "metadata": {
    "ExecuteTime": {
     "end_time": "2022-12-14T15:11:47.861333Z",
     "start_time": "2022-12-14T15:11:47.739010Z"
    },
    "scrolled": true
   },
   "outputs": [
    {
     "data": {
      "image/png": "[encoded data removed]",
      "text/plain": [
       "<Figure size 1440x1008 with 1 Axes>"
      ]
     },
     "metadata": {
      "needs_background": "light"
     },
     "output_type": "display_data"
    }
   ],
   "source": [
    "plt.figure(figsize=(20,14))\n",
    "sns.barplot(x = r2author_c[\"Author\"], y=r2author_c[\"Price\"], dodge=False, ci=None)\n",
    "plt.xlabel(\"Author\")\n",
    "plt.ylabel(\"Price\")\n",
    "plt.title(\"Median Condo Price of a given land developer\")\n",
    "plt.show()"
   ]
  },
  {
   "cell_type": "markdown",
   "id": "a2d53694",
   "metadata": {},
   "source": [
    "#### Findings: \n",
    "After following a similar process, the top 10 land developer, it can be seen that the median prices range from 2 mil to 33 mill. \n",
    "Patricia marques who is the top 1 developer has the median price of 33 mil"
   ]
  },
  {
   "cell_type": "markdown",
   "id": "5d03f0b5",
   "metadata": {},
   "source": [
    "### EDA#5: Does nearby places of the condo affect its pricing? "
   ]
  },
  {
   "cell_type": "code",
   "execution_count": 36,
   "id": "0eff826c",
   "metadata": {
    "ExecuteTime": {
     "end_time": "2022-12-14T15:11:47.876864Z",
     "start_time": "2022-12-14T15:11:47.863332Z"
    }
   },
   "outputs": [
    {
     "data": {
      "text/plain": [
       "4"
      ]
     },
     "execution_count": 36,
     "metadata": {},
     "output_type": "execute_result"
    }
   ],
   "source": [
    "nearby_places = list(set(sum([x for x in df['Nearby Places']], [])))\n",
    "len(nearby_places)"
   ]
  },
  {
   "cell_type": "code",
   "execution_count": 37,
   "id": "d808ecfa",
   "metadata": {
    "ExecuteTime": {
     "end_time": "2022-12-14T15:11:47.907909Z",
     "start_time": "2022-12-14T15:11:47.877864Z"
    }
   },
   "outputs": [],
   "source": [
    "one_hot_encoded_np = df.copy()\n",
    "for i in nearby_places:\n",
    "    one_hot_encoded_np.insert(loc=len(one_hot_encoded_np.columns), column=i, value = 0)"
   ]
  },
  {
   "cell_type": "code",
   "execution_count": 38,
   "id": "89074f01",
   "metadata": {
    "ExecuteTime": {
     "end_time": "2022-12-14T15:11:47.985517Z",
     "start_time": "2022-12-14T15:11:47.909916Z"
    }
   },
   "outputs": [],
   "source": [
    "for n_p in nearby_places:\n",
    "    one_hot_encoded_np[n_p] = one_hot_encoded_np.apply(lambda x: 1 if n_p in x['Nearby Places'] else 0, axis=1)"
   ]
  },
  {
   "cell_type": "code",
   "execution_count": 39,
   "id": "c2b8cc00",
   "metadata": {
    "ExecuteTime": {
     "end_time": "2022-12-14T15:11:48.001376Z",
     "start_time": "2022-12-14T15:11:47.986517Z"
    }
   },
   "outputs": [],
   "source": [
    "# filter to condos, since only those has nearby places\n",
    "one_hot_encoded_np = one_hot_encoded_np[one_hot_encoded_np['Type'] == 'Condo']"
   ]
  },
  {
   "cell_type": "code",
   "execution_count": 40,
   "id": "23a86255",
   "metadata": {
    "ExecuteTime": {
     "end_time": "2022-12-14T15:11:48.016880Z",
     "start_time": "2022-12-14T15:11:48.002366Z"
    }
   },
   "outputs": [
    {
     "data": {
      "text/plain": [
       "Hospital              1022\n",
       "Mall                   984\n",
       "School                 934\n",
       "Transportation hub     834\n",
       "dtype: int64"
      ]
     },
     "execution_count": 40,
     "metadata": {},
     "output_type": "execute_result"
    }
   ],
   "source": [
    "one_hot_encoded_np[nearby_places].sum().sort_values(ascending=False)"
   ]
  },
  {
   "cell_type": "code",
   "execution_count": 41,
   "id": "f39429d1",
   "metadata": {
    "ExecuteTime": {
     "end_time": "2022-12-14T15:11:48.032907Z",
     "start_time": "2022-12-14T15:11:48.018383Z"
    }
   },
   "outputs": [
    {
     "data": {
      "text/html": [
       "<div>\n",
       "<style scoped>\n",
       "    .dataframe tbody tr th:only-of-type {\n",
       "        vertical-align: middle;\n",
       "    }\n",
       "\n",
       "    .dataframe tbody tr th {\n",
       "        vertical-align: top;\n",
       "    }\n",
       "\n",
       "    .dataframe thead th {\n",
       "        text-align: right;\n",
       "    }\n",
       "</style>\n",
       "<table border=\"1\" class=\"dataframe\">\n",
       "  <thead>\n",
       "    <tr style=\"text-align: right;\">\n",
       "      <th></th>\n",
       "      <th>nearby_places</th>\n",
       "      <th>High</th>\n",
       "    </tr>\n",
       "  </thead>\n",
       "  <tbody>\n",
       "    <tr>\n",
       "      <th>0</th>\n",
       "      <td>Hospital</td>\n",
       "      <td>370</td>\n",
       "    </tr>\n",
       "    <tr>\n",
       "      <th>1</th>\n",
       "      <td>Mall</td>\n",
       "      <td>361</td>\n",
       "    </tr>\n",
       "    <tr>\n",
       "      <th>2</th>\n",
       "      <td>School</td>\n",
       "      <td>319</td>\n",
       "    </tr>\n",
       "    <tr>\n",
       "      <th>3</th>\n",
       "      <td>Transportation hub</td>\n",
       "      <td>303</td>\n",
       "    </tr>\n",
       "  </tbody>\n",
       "</table>\n",
       "</div>"
      ],
      "text/plain": [
       "        nearby_places  High\n",
       "0            Hospital   370\n",
       "1                Mall   361\n",
       "2              School   319\n",
       "3  Transportation hub   303"
      ]
     },
     "execution_count": 41,
     "metadata": {},
     "output_type": "execute_result"
    }
   ],
   "source": [
    "r3_1 = one_hot_encoded_np[one_hot_encoded_np['Price'] > np.median(df['Price'])][nearby_places].sum().sort_values(ascending=False).reset_index()\n",
    "r3_1.columns =['nearby_places', 'High']\n",
    "r3_1"
   ]
  },
  {
   "cell_type": "code",
   "execution_count": 42,
   "id": "ca0d9a17",
   "metadata": {
    "ExecuteTime": {
     "end_time": "2022-12-14T15:11:48.422913Z",
     "start_time": "2022-12-14T15:11:48.033907Z"
    }
   },
   "outputs": [
    {
     "name": "stderr",
     "output_type": "stream",
     "text": [
      "C:\\Users\\chris\\AppData\\Local\\Temp\\ipykernel_22652\\2400524402.py:1: UserWarning: Boolean Series key will be reindexed to match DataFrame index.\n",
      "  r3_2 = one_hot_encoded_np[df['Price'] < np.median(df['Price'])][nearby_places].sum().sort_values(ascending=False).reset_index()\n"
     ]
    },
    {
     "data": {
      "text/html": [
       "<div>\n",
       "<style scoped>\n",
       "    .dataframe tbody tr th:only-of-type {\n",
       "        vertical-align: middle;\n",
       "    }\n",
       "\n",
       "    .dataframe tbody tr th {\n",
       "        vertical-align: top;\n",
       "    }\n",
       "\n",
       "    .dataframe thead th {\n",
       "        text-align: right;\n",
       "    }\n",
       "</style>\n",
       "<table border=\"1\" class=\"dataframe\">\n",
       "  <thead>\n",
       "    <tr style=\"text-align: right;\">\n",
       "      <th></th>\n",
       "      <th>nearby_places</th>\n",
       "      <th>Low</th>\n",
       "    </tr>\n",
       "  </thead>\n",
       "  <tbody>\n",
       "    <tr>\n",
       "      <th>0</th>\n",
       "      <td>Hospital</td>\n",
       "      <td>652</td>\n",
       "    </tr>\n",
       "    <tr>\n",
       "      <th>1</th>\n",
       "      <td>Mall</td>\n",
       "      <td>623</td>\n",
       "    </tr>\n",
       "    <tr>\n",
       "      <th>2</th>\n",
       "      <td>School</td>\n",
       "      <td>615</td>\n",
       "    </tr>\n",
       "    <tr>\n",
       "      <th>3</th>\n",
       "      <td>Transportation hub</td>\n",
       "      <td>531</td>\n",
       "    </tr>\n",
       "  </tbody>\n",
       "</table>\n",
       "</div>"
      ],
      "text/plain": [
       "        nearby_places  Low\n",
       "0            Hospital  652\n",
       "1                Mall  623\n",
       "2              School  615\n",
       "3  Transportation hub  531"
      ]
     },
     "execution_count": 42,
     "metadata": {},
     "output_type": "execute_result"
    }
   ],
   "source": [
    "r3_2 = one_hot_encoded_np[df['Price'] < np.median(df['Price'])][nearby_places].sum().sort_values(ascending=False).reset_index()\n",
    "r3_2.columns =['nearby_places', 'Low']\n",
    "r3_2"
   ]
  },
  {
   "cell_type": "code",
   "execution_count": 43,
   "id": "aab0a00e",
   "metadata": {
    "ExecuteTime": {
     "end_time": "2022-12-14T15:11:48.438966Z",
     "start_time": "2022-12-14T15:11:48.423910Z"
    }
   },
   "outputs": [
    {
     "data": {
      "text/html": [
       "<div>\n",
       "<style scoped>\n",
       "    .dataframe tbody tr th:only-of-type {\n",
       "        vertical-align: middle;\n",
       "    }\n",
       "\n",
       "    .dataframe tbody tr th {\n",
       "        vertical-align: top;\n",
       "    }\n",
       "\n",
       "    .dataframe thead th {\n",
       "        text-align: right;\n",
       "    }\n",
       "</style>\n",
       "<table border=\"1\" class=\"dataframe\">\n",
       "  <thead>\n",
       "    <tr style=\"text-align: right;\">\n",
       "      <th></th>\n",
       "      <th>nearby_places</th>\n",
       "      <th>High</th>\n",
       "      <th>Low</th>\n",
       "    </tr>\n",
       "  </thead>\n",
       "  <tbody>\n",
       "    <tr>\n",
       "      <th>0</th>\n",
       "      <td>Hospital</td>\n",
       "      <td>370</td>\n",
       "      <td>652</td>\n",
       "    </tr>\n",
       "    <tr>\n",
       "      <th>1</th>\n",
       "      <td>Mall</td>\n",
       "      <td>361</td>\n",
       "      <td>623</td>\n",
       "    </tr>\n",
       "    <tr>\n",
       "      <th>2</th>\n",
       "      <td>School</td>\n",
       "      <td>319</td>\n",
       "      <td>615</td>\n",
       "    </tr>\n",
       "    <tr>\n",
       "      <th>3</th>\n",
       "      <td>Transportation hub</td>\n",
       "      <td>303</td>\n",
       "      <td>531</td>\n",
       "    </tr>\n",
       "  </tbody>\n",
       "</table>\n",
       "</div>"
      ],
      "text/plain": [
       "        nearby_places  High  Low\n",
       "0            Hospital   370  652\n",
       "1                Mall   361  623\n",
       "2              School   319  615\n",
       "3  Transportation hub   303  531"
      ]
     },
     "execution_count": 43,
     "metadata": {},
     "output_type": "execute_result"
    }
   ],
   "source": [
    "r3_df = pd.merge(r3_1, r3_2, how='inner', on = 'nearby_places')\n",
    "r3_df"
   ]
  },
  {
   "cell_type": "code",
   "execution_count": 44,
   "id": "1566ae10",
   "metadata": {
    "ExecuteTime": {
     "end_time": "2022-12-14T15:11:48.564303Z",
     "start_time": "2022-12-14T15:11:48.440963Z"
    },
    "scrolled": true
   },
   "outputs": [
    {
     "data": {
      "text/plain": [
       "<AxesSubplot:xlabel='nearby_places'>"
      ]
     },
     "execution_count": 44,
     "metadata": {},
     "output_type": "execute_result"
    },
    {
     "data": {
      "image/png": "[encoded data removed]",
      "text/plain": [
       "<Figure size 432x288 with 1 Axes>"
      ]
     },
     "metadata": {
      "needs_background": "light"
     },
     "output_type": "display_data"
    }
   ],
   "source": [
    "r3_df.plot(x=\"nearby_places\", y=[\"High\", \"Low\"], kind=\"bar\")"
   ]
  },
  {
   "cell_type": "markdown",
   "id": "5dc86346",
   "metadata": {},
   "source": [
    "#### Findings:\n",
    "Based on our data, there are fewer high priced condos that are nearer to hospitals, mall, schools, and transportation hub. "
   ]
  },
  {
   "cell_type": "markdown",
   "id": "9f0cb3a3",
   "metadata": {},
   "source": [
    "### EDA#6: Correlation of features that exist on high-price range condo?"
   ]
  },
  {
   "cell_type": "markdown",
   "id": "1aa27f5b",
   "metadata": {},
   "source": [
    "### Filter High Prices (based on median price)"
   ]
  },
  {
   "cell_type": "code",
   "execution_count": 45,
   "id": "62dc1234",
   "metadata": {
    "ExecuteTime": {
     "end_time": "2022-12-14T15:11:48.580371Z",
     "start_time": "2022-12-14T15:11:48.565300Z"
    }
   },
   "outputs": [
    {
     "name": "stdout",
     "output_type": "stream",
     "text": [
      "1132 / 2264\n"
     ]
    }
   ],
   "source": [
    "high_prices = df[df['Price'] > np.median(df['Price'])]\n",
    "print(len(high_prices), '/', len(df))"
   ]
  },
  {
   "cell_type": "markdown",
   "id": "628d869e",
   "metadata": {},
   "source": [
    "### Features/Facilities "
   ]
  },
  {
   "cell_type": "code",
   "execution_count": 46,
   "id": "5948362a",
   "metadata": {
    "ExecuteTime": {
     "end_time": "2022-12-14T15:11:48.611674Z",
     "start_time": "2022-12-14T15:11:48.582372Z"
    }
   },
   "outputs": [
    {
     "data": {
      "text/plain": [
       "57"
      ]
     },
     "execution_count": 46,
     "metadata": {},
     "output_type": "execute_result"
    }
   ],
   "source": [
    "unique_features = list(set(sum([x for x in high_prices['Features']], [])))\n",
    "unique_facilities = list(set(sum([x for x in high_prices['Facilities']], [])))\n",
    "feature_facilities = list(set(unique_features + unique_facilities))\n",
    "len(feature_facilities)"
   ]
  },
  {
   "cell_type": "code",
   "execution_count": 47,
   "id": "7d5d387e",
   "metadata": {
    "ExecuteTime": {
     "end_time": "2022-12-14T15:11:48.627830Z",
     "start_time": "2022-12-14T15:11:48.612677Z"
    }
   },
   "outputs": [],
   "source": [
    "one_hot_encoded_ff = high_prices.copy()\n",
    "for i in feature_facilities:\n",
    "    one_hot_encoded_ff.insert(loc=len(one_hot_encoded_ff.columns), column=i, value = 0)"
   ]
  },
  {
   "cell_type": "code",
   "execution_count": 48,
   "id": "0b1a6897",
   "metadata": {
    "ExecuteTime": {
     "end_time": "2022-12-14T15:11:49.259025Z",
     "start_time": "2022-12-14T15:11:48.628731Z"
    }
   },
   "outputs": [],
   "source": [
    "for ff in feature_facilities:\n",
    "    one_hot_encoded_ff[ff] = one_hot_encoded_ff.apply(lambda x: 1 if ff in x['Features'] or ff in x['Facilities'] else 0, axis=1)"
   ]
  },
  {
   "cell_type": "code",
   "execution_count": 49,
   "id": "4ae963c8",
   "metadata": {
    "ExecuteTime": {
     "end_time": "2022-12-14T15:11:49.274697Z",
     "start_time": "2022-12-14T15:11:49.261028Z"
    }
   },
   "outputs": [],
   "source": [
    "# Drop un-used columns\n",
    "one_hot_encoded_ff = one_hot_encoded_ff.drop(columns =['Name', 'Address', 'Author', 'Price', 'Bedrooms', 'Showers', 'Parking', 'Furnish', 'Total Developed', 'Features', 'Facilities', 'Nearby Places', 'URL', 'Timestamp', 'NFeatures', 'NFacilities', 'NNearby Places'], axis=1)"
   ]
  },
  {
   "cell_type": "code",
   "execution_count": 50,
   "id": "d88c2e2d",
   "metadata": {
    "ExecuteTime": {
     "end_time": "2022-12-14T15:11:49.306298Z",
     "start_time": "2022-12-14T15:11:49.275701Z"
    }
   },
   "outputs": [
    {
     "data": {
      "text/html": [
       "<div>\n",
       "<style scoped>\n",
       "    .dataframe tbody tr th:only-of-type {\n",
       "        vertical-align: middle;\n",
       "    }\n",
       "\n",
       "    .dataframe tbody tr th {\n",
       "        vertical-align: top;\n",
       "    }\n",
       "\n",
       "    .dataframe thead th {\n",
       "        text-align: right;\n",
       "    }\n",
       "</style>\n",
       "<table border=\"1\" class=\"dataframe\">\n",
       "  <thead>\n",
       "    <tr style=\"text-align: right;\">\n",
       "      <th></th>\n",
       "      <th>City</th>\n",
       "      <th>Region</th>\n",
       "      <th>Island</th>\n",
       "      <th>Type</th>\n",
       "      <th>Conference Room</th>\n",
       "      <th>Amenity Deck</th>\n",
       "      <th>WiFi</th>\n",
       "      <th>Retail spaces</th>\n",
       "      <th>Garden/Lanai</th>\n",
       "      <th>Gated</th>\n",
       "      <th>...</th>\n",
       "      <th>Maid’s Room</th>\n",
       "      <th>Fully Fenced</th>\n",
       "      <th>Golf Course</th>\n",
       "      <th>Lounge</th>\n",
       "      <th>Utility Room</th>\n",
       "      <th>Co-working Space</th>\n",
       "      <th>Helipad</th>\n",
       "      <th>Club House</th>\n",
       "      <th>Water Feature</th>\n",
       "      <th>Restaurants and/or Bars</th>\n",
       "    </tr>\n",
       "  </thead>\n",
       "  <tbody>\n",
       "    <tr>\n",
       "      <th>0</th>\n",
       "      <td>Pasig</td>\n",
       "      <td>National Capital Region</td>\n",
       "      <td>Luzon</td>\n",
       "      <td>Condo</td>\n",
       "      <td>1</td>\n",
       "      <td>0</td>\n",
       "      <td>0</td>\n",
       "      <td>0</td>\n",
       "      <td>0</td>\n",
       "      <td>0</td>\n",
       "      <td>...</td>\n",
       "      <td>0</td>\n",
       "      <td>0</td>\n",
       "      <td>0</td>\n",
       "      <td>1</td>\n",
       "      <td>0</td>\n",
       "      <td>0</td>\n",
       "      <td>0</td>\n",
       "      <td>0</td>\n",
       "      <td>0</td>\n",
       "      <td>0</td>\n",
       "    </tr>\n",
       "    <tr>\n",
       "      <th>2</th>\n",
       "      <td>Taguig</td>\n",
       "      <td>National Capital Region</td>\n",
       "      <td>Luzon</td>\n",
       "      <td>Condo</td>\n",
       "      <td>0</td>\n",
       "      <td>0</td>\n",
       "      <td>0</td>\n",
       "      <td>0</td>\n",
       "      <td>1</td>\n",
       "      <td>0</td>\n",
       "      <td>...</td>\n",
       "      <td>1</td>\n",
       "      <td>0</td>\n",
       "      <td>1</td>\n",
       "      <td>1</td>\n",
       "      <td>1</td>\n",
       "      <td>0</td>\n",
       "      <td>0</td>\n",
       "      <td>0</td>\n",
       "      <td>0</td>\n",
       "      <td>0</td>\n",
       "    </tr>\n",
       "    <tr>\n",
       "      <th>3</th>\n",
       "      <td>Mandaluyong</td>\n",
       "      <td>National Capital Region</td>\n",
       "      <td>Luzon</td>\n",
       "      <td>Condo</td>\n",
       "      <td>0</td>\n",
       "      <td>0</td>\n",
       "      <td>0</td>\n",
       "      <td>0</td>\n",
       "      <td>1</td>\n",
       "      <td>0</td>\n",
       "      <td>...</td>\n",
       "      <td>1</td>\n",
       "      <td>0</td>\n",
       "      <td>1</td>\n",
       "      <td>1</td>\n",
       "      <td>1</td>\n",
       "      <td>0</td>\n",
       "      <td>0</td>\n",
       "      <td>1</td>\n",
       "      <td>0</td>\n",
       "      <td>0</td>\n",
       "    </tr>\n",
       "    <tr>\n",
       "      <th>4</th>\n",
       "      <td>Pasig</td>\n",
       "      <td>National Capital Region</td>\n",
       "      <td>Luzon</td>\n",
       "      <td>Condo</td>\n",
       "      <td>0</td>\n",
       "      <td>0</td>\n",
       "      <td>0</td>\n",
       "      <td>0</td>\n",
       "      <td>1</td>\n",
       "      <td>0</td>\n",
       "      <td>...</td>\n",
       "      <td>1</td>\n",
       "      <td>0</td>\n",
       "      <td>0</td>\n",
       "      <td>1</td>\n",
       "      <td>1</td>\n",
       "      <td>0</td>\n",
       "      <td>0</td>\n",
       "      <td>0</td>\n",
       "      <td>0</td>\n",
       "      <td>0</td>\n",
       "    </tr>\n",
       "    <tr>\n",
       "      <th>5</th>\n",
       "      <td>Pasig</td>\n",
       "      <td>National Capital Region</td>\n",
       "      <td>Luzon</td>\n",
       "      <td>Condo</td>\n",
       "      <td>0</td>\n",
       "      <td>0</td>\n",
       "      <td>0</td>\n",
       "      <td>0</td>\n",
       "      <td>1</td>\n",
       "      <td>0</td>\n",
       "      <td>...</td>\n",
       "      <td>1</td>\n",
       "      <td>0</td>\n",
       "      <td>0</td>\n",
       "      <td>1</td>\n",
       "      <td>1</td>\n",
       "      <td>0</td>\n",
       "      <td>0</td>\n",
       "      <td>0</td>\n",
       "      <td>0</td>\n",
       "      <td>0</td>\n",
       "    </tr>\n",
       "    <tr>\n",
       "      <th>...</th>\n",
       "      <td>...</td>\n",
       "      <td>...</td>\n",
       "      <td>...</td>\n",
       "      <td>...</td>\n",
       "      <td>...</td>\n",
       "      <td>...</td>\n",
       "      <td>...</td>\n",
       "      <td>...</td>\n",
       "      <td>...</td>\n",
       "      <td>...</td>\n",
       "      <td>...</td>\n",
       "      <td>...</td>\n",
       "      <td>...</td>\n",
       "      <td>...</td>\n",
       "      <td>...</td>\n",
       "      <td>...</td>\n",
       "      <td>...</td>\n",
       "      <td>...</td>\n",
       "      <td>...</td>\n",
       "      <td>...</td>\n",
       "      <td>...</td>\n",
       "    </tr>\n",
       "    <tr>\n",
       "      <th>2465</th>\n",
       "      <td>Mandaluyong</td>\n",
       "      <td>National Capital Region</td>\n",
       "      <td>Luzon</td>\n",
       "      <td>Condo</td>\n",
       "      <td>0</td>\n",
       "      <td>0</td>\n",
       "      <td>0</td>\n",
       "      <td>0</td>\n",
       "      <td>0</td>\n",
       "      <td>0</td>\n",
       "      <td>...</td>\n",
       "      <td>0</td>\n",
       "      <td>0</td>\n",
       "      <td>0</td>\n",
       "      <td>0</td>\n",
       "      <td>0</td>\n",
       "      <td>0</td>\n",
       "      <td>0</td>\n",
       "      <td>0</td>\n",
       "      <td>0</td>\n",
       "      <td>0</td>\n",
       "    </tr>\n",
       "    <tr>\n",
       "      <th>2467</th>\n",
       "      <td>Mandaluyong</td>\n",
       "      <td>National Capital Region</td>\n",
       "      <td>Luzon</td>\n",
       "      <td>Condo</td>\n",
       "      <td>0</td>\n",
       "      <td>0</td>\n",
       "      <td>0</td>\n",
       "      <td>0</td>\n",
       "      <td>0</td>\n",
       "      <td>0</td>\n",
       "      <td>...</td>\n",
       "      <td>0</td>\n",
       "      <td>0</td>\n",
       "      <td>0</td>\n",
       "      <td>0</td>\n",
       "      <td>0</td>\n",
       "      <td>0</td>\n",
       "      <td>0</td>\n",
       "      <td>0</td>\n",
       "      <td>0</td>\n",
       "      <td>0</td>\n",
       "    </tr>\n",
       "    <tr>\n",
       "      <th>2468</th>\n",
       "      <td>Mandaluyong</td>\n",
       "      <td>National Capital Region</td>\n",
       "      <td>Luzon</td>\n",
       "      <td>Condo</td>\n",
       "      <td>0</td>\n",
       "      <td>0</td>\n",
       "      <td>0</td>\n",
       "      <td>0</td>\n",
       "      <td>0</td>\n",
       "      <td>0</td>\n",
       "      <td>...</td>\n",
       "      <td>0</td>\n",
       "      <td>0</td>\n",
       "      <td>0</td>\n",
       "      <td>0</td>\n",
       "      <td>0</td>\n",
       "      <td>0</td>\n",
       "      <td>0</td>\n",
       "      <td>0</td>\n",
       "      <td>0</td>\n",
       "      <td>0</td>\n",
       "    </tr>\n",
       "    <tr>\n",
       "      <th>2484</th>\n",
       "      <td>Mandaluyong</td>\n",
       "      <td>National Capital Region</td>\n",
       "      <td>Luzon</td>\n",
       "      <td>Condo</td>\n",
       "      <td>0</td>\n",
       "      <td>0</td>\n",
       "      <td>0</td>\n",
       "      <td>0</td>\n",
       "      <td>1</td>\n",
       "      <td>0</td>\n",
       "      <td>...</td>\n",
       "      <td>0</td>\n",
       "      <td>0</td>\n",
       "      <td>0</td>\n",
       "      <td>0</td>\n",
       "      <td>0</td>\n",
       "      <td>0</td>\n",
       "      <td>0</td>\n",
       "      <td>0</td>\n",
       "      <td>0</td>\n",
       "      <td>0</td>\n",
       "    </tr>\n",
       "    <tr>\n",
       "      <th>2489</th>\n",
       "      <td>Mandaluyong</td>\n",
       "      <td>National Capital Region</td>\n",
       "      <td>Luzon</td>\n",
       "      <td>Condo</td>\n",
       "      <td>0</td>\n",
       "      <td>0</td>\n",
       "      <td>0</td>\n",
       "      <td>0</td>\n",
       "      <td>1</td>\n",
       "      <td>0</td>\n",
       "      <td>...</td>\n",
       "      <td>0</td>\n",
       "      <td>0</td>\n",
       "      <td>0</td>\n",
       "      <td>0</td>\n",
       "      <td>0</td>\n",
       "      <td>0</td>\n",
       "      <td>0</td>\n",
       "      <td>0</td>\n",
       "      <td>0</td>\n",
       "      <td>0</td>\n",
       "    </tr>\n",
       "  </tbody>\n",
       "</table>\n",
       "<p>508 rows × 61 columns</p>\n",
       "</div>"
      ],
      "text/plain": [
       "             City                   Region Island   Type  Conference Room  \\\n",
       "0           Pasig  National Capital Region  Luzon  Condo                1   \n",
       "2          Taguig  National Capital Region  Luzon  Condo                0   \n",
       "3     Mandaluyong  National Capital Region  Luzon  Condo                0   \n",
       "4           Pasig  National Capital Region  Luzon  Condo                0   \n",
       "5           Pasig  National Capital Region  Luzon  Condo                0   \n",
       "...           ...                      ...    ...    ...              ...   \n",
       "2465  Mandaluyong  National Capital Region  Luzon  Condo                0   \n",
       "2467  Mandaluyong  National Capital Region  Luzon  Condo                0   \n",
       "2468  Mandaluyong  National Capital Region  Luzon  Condo                0   \n",
       "2484  Mandaluyong  National Capital Region  Luzon  Condo                0   \n",
       "2489  Mandaluyong  National Capital Region  Luzon  Condo                0   \n",
       "\n",
       "      Amenity Deck  WiFi  Retail spaces  Garden/Lanai  Gated  ...  \\\n",
       "0                0     0              0             0      0  ...   \n",
       "2                0     0              0             1      0  ...   \n",
       "3                0     0              0             1      0  ...   \n",
       "4                0     0              0             1      0  ...   \n",
       "5                0     0              0             1      0  ...   \n",
       "...            ...   ...            ...           ...    ...  ...   \n",
       "2465             0     0              0             0      0  ...   \n",
       "2467             0     0              0             0      0  ...   \n",
       "2468             0     0              0             0      0  ...   \n",
       "2484             0     0              0             1      0  ...   \n",
       "2489             0     0              0             1      0  ...   \n",
       "\n",
       "      Maid’s Room  Fully Fenced  Golf Course  Lounge  Utility Room  \\\n",
       "0               0             0            0       1             0   \n",
       "2               1             0            1       1             1   \n",
       "3               1             0            1       1             1   \n",
       "4               1             0            0       1             1   \n",
       "5               1             0            0       1             1   \n",
       "...           ...           ...          ...     ...           ...   \n",
       "2465            0             0            0       0             0   \n",
       "2467            0             0            0       0             0   \n",
       "2468            0             0            0       0             0   \n",
       "2484            0             0            0       0             0   \n",
       "2489            0             0            0       0             0   \n",
       "\n",
       "      Co-working Space  Helipad  Club House  Water Feature  \\\n",
       "0                    0        0           0              0   \n",
       "2                    0        0           0              0   \n",
       "3                    0        0           1              0   \n",
       "4                    0        0           0              0   \n",
       "5                    0        0           0              0   \n",
       "...                ...      ...         ...            ...   \n",
       "2465                 0        0           0              0   \n",
       "2467                 0        0           0              0   \n",
       "2468                 0        0           0              0   \n",
       "2484                 0        0           0              0   \n",
       "2489                 0        0           0              0   \n",
       "\n",
       "      Restaurants and/or Bars  \n",
       "0                           0  \n",
       "2                           0  \n",
       "3                           0  \n",
       "4                           0  \n",
       "5                           0  \n",
       "...                       ...  \n",
       "2465                        0  \n",
       "2467                        0  \n",
       "2468                        0  \n",
       "2484                        0  \n",
       "2489                        0  \n",
       "\n",
       "[508 rows x 61 columns]"
      ]
     },
     "execution_count": 50,
     "metadata": {},
     "output_type": "execute_result"
    }
   ],
   "source": [
    "r4_ff_house = one_hot_encoded_ff[one_hot_encoded_ff.Type == \"Condo\"]\n",
    "r4_ff_house"
   ]
  },
  {
   "cell_type": "markdown",
   "id": "72e36e92",
   "metadata": {},
   "source": [
    "##### Grouping of Features/Facilities\n",
    "\n",
    "\n",
    "##### room_list \n",
    "['Security', 'Ensuite', 'Fiber ready', 'Maid’s Room', 'Gated', 'Maid’s Quarters', 'Floorboards', 'Balcony', 'Dirty Kitchen', 'Water Feature', 'Built-in wardrobes', 'Utility Room']\n",
    "##### appliance_list\n",
    "['Stove/Burner', 'WiFi', 'CCTV', 'Hot Tub', 'Range Hood', 'Central air conditioning', 'Garbage Chute']\n",
    "##### condo_provided \n",
    "['Pool', 'Court', 'Garden/Lanai', 'Outdoor Area', 'Lounge', 'Lobby', 'Roof Deck', 'Golf Course', 'Restaurants and/or Bars', 'Sauna', 'Pets Allowed', 'Laundry station', 'Laundry Area', 'Mailbox Area', 'Fully Fenced', 'Amenity Deck', 'Helipad']\n",
    "##### property_exclusive\n",
    "['Co-working Space', 'Entertainment Area', 'Building Reception Area', 'Function Room', 'Clubhouse', 'Club House', 'Conference Room', 'Gazebo']\n",
    "##### external_list\n",
    "['Connected to mall', 'Yoga Studio', 'Garage Space', 'Daycare', 'Retail Area', 'Jogging Path', 'Play Area', 'Fitness Center']"
   ]
  },
  {
   "cell_type": "code",
   "execution_count": 51,
   "id": "48657790",
   "metadata": {
    "ExecuteTime": {
     "end_time": "2022-12-14T15:11:49.321356Z",
     "start_time": "2022-12-14T15:11:49.306298Z"
    }
   },
   "outputs": [],
   "source": [
    "room_list = ['Security', 'Ensuite', 'Fiber ready', 'Maid’s Room', 'Gated', 'Maid’s Quarters', 'Floorboards', 'Balcony', 'Dirty Kitchen', 'Water Feature', 'Built-in wardrobes', 'Utility Room']\n",
    "appliance_list = ['Stove/Burner', 'WiFi', 'CCTV', 'Hot Tub', 'Range Hood', 'Central air conditioning', 'Garbage Chute']\n",
    "condo_provided = ['Pool', 'Court', 'Garden/Lanai', 'Outdoor Area', 'Lounge', 'Lobby', 'Roof Deck', 'Golf Course', 'Restaurants and/or Bars', 'Sauna', 'Pets Allowed', 'Laundry station', 'Laundry Area', 'Mailbox Area', 'Fully Fenced', 'Amenity Deck', 'Helipad']\n",
    "property_exclusive = ['Co-working Space', 'Entertainment Area', 'Building Reception Area', 'Function Room', 'Clubhouse', 'Club House', 'Conference Room', 'Gazebo']\n",
    "external_list = ['Connected to mall', 'Yoga Studio', 'Garage Space', 'Daycare', 'Retail Area', 'Jogging Path', 'Play Area', 'Fitness Center']\n"
   ]
  },
  {
   "cell_type": "code",
   "execution_count": 52,
   "id": "6dd9d141",
   "metadata": {
    "ExecuteTime": {
     "end_time": "2022-12-14T15:11:49.414520Z",
     "start_time": "2022-12-14T15:11:49.322358Z"
    }
   },
   "outputs": [
    {
     "name": "stderr",
     "output_type": "stream",
     "text": [
      "C:\\Users\\chris\\AppData\\Local\\Temp\\ipykernel_22652\\1869938918.py:1: SettingWithCopyWarning: \n",
      "A value is trying to be set on a copy of a slice from a DataFrame.\n",
      "Try using .loc[row_indexer,col_indexer] = value instead\n",
      "\n",
      "See the caveats in the documentation: https://pandas.pydata.org/pandas-docs/stable/user_guide/indexing.html#returning-a-view-versus-a-copy\n",
      "  r4_ff_house['Room'] = r4_ff_house.loc[:,room_list].sum(axis=1)\n",
      "C:\\Users\\chris\\AppData\\Local\\Temp\\ipykernel_22652\\1869938918.py:2: SettingWithCopyWarning: \n",
      "A value is trying to be set on a copy of a slice from a DataFrame.\n",
      "Try using .loc[row_indexer,col_indexer] = value instead\n",
      "\n",
      "See the caveats in the documentation: https://pandas.pydata.org/pandas-docs/stable/user_guide/indexing.html#returning-a-view-versus-a-copy\n",
      "  r4_ff_house['Appliance'] = r4_ff_house.loc[:,appliance_list].sum(axis=1)\n",
      "C:\\Users\\chris\\AppData\\Local\\Temp\\ipykernel_22652\\1869938918.py:3: SettingWithCopyWarning: \n",
      "A value is trying to be set on a copy of a slice from a DataFrame.\n",
      "Try using .loc[row_indexer,col_indexer] = value instead\n",
      "\n",
      "See the caveats in the documentation: https://pandas.pydata.org/pandas-docs/stable/user_guide/indexing.html#returning-a-view-versus-a-copy\n",
      "  r4_ff_house['Condo-Provide'] = r4_ff_house.loc[:,condo_provided].sum(axis=1)\n",
      "C:\\Users\\chris\\AppData\\Local\\Temp\\ipykernel_22652\\1869938918.py:4: SettingWithCopyWarning: \n",
      "A value is trying to be set on a copy of a slice from a DataFrame.\n",
      "Try using .loc[row_indexer,col_indexer] = value instead\n",
      "\n",
      "See the caveats in the documentation: https://pandas.pydata.org/pandas-docs/stable/user_guide/indexing.html#returning-a-view-versus-a-copy\n",
      "  r4_ff_house['Property-Exclusive'] = r4_ff_house.loc[:,property_exclusive].sum(axis=1)\n",
      "C:\\Users\\chris\\AppData\\Local\\Temp\\ipykernel_22652\\1869938918.py:5: SettingWithCopyWarning: \n",
      "A value is trying to be set on a copy of a slice from a DataFrame.\n",
      "Try using .loc[row_indexer,col_indexer] = value instead\n",
      "\n",
      "See the caveats in the documentation: https://pandas.pydata.org/pandas-docs/stable/user_guide/indexing.html#returning-a-view-versus-a-copy\n",
      "  r4_ff_house['External'] = r4_ff_house.loc[:,external_list].sum(axis=1)\n"
     ]
    },
    {
     "data": {
      "text/html": [
       "<div>\n",
       "<style scoped>\n",
       "    .dataframe tbody tr th:only-of-type {\n",
       "        vertical-align: middle;\n",
       "    }\n",
       "\n",
       "    .dataframe tbody tr th {\n",
       "        vertical-align: top;\n",
       "    }\n",
       "\n",
       "    .dataframe thead th {\n",
       "        text-align: right;\n",
       "    }\n",
       "</style>\n",
       "<table border=\"1\" class=\"dataframe\">\n",
       "  <thead>\n",
       "    <tr style=\"text-align: right;\">\n",
       "      <th></th>\n",
       "      <th>Room</th>\n",
       "      <th>Appliance</th>\n",
       "      <th>Condo-Provide</th>\n",
       "      <th>Property-Exclusive</th>\n",
       "      <th>External</th>\n",
       "    </tr>\n",
       "  </thead>\n",
       "  <tbody>\n",
       "    <tr>\n",
       "      <th>0</th>\n",
       "      <td>1</td>\n",
       "      <td>3</td>\n",
       "      <td>4</td>\n",
       "      <td>3</td>\n",
       "      <td>2</td>\n",
       "    </tr>\n",
       "    <tr>\n",
       "      <th>2</th>\n",
       "      <td>8</td>\n",
       "      <td>4</td>\n",
       "      <td>7</td>\n",
       "      <td>3</td>\n",
       "      <td>3</td>\n",
       "    </tr>\n",
       "    <tr>\n",
       "      <th>3</th>\n",
       "      <td>7</td>\n",
       "      <td>4</td>\n",
       "      <td>7</td>\n",
       "      <td>4</td>\n",
       "      <td>3</td>\n",
       "    </tr>\n",
       "    <tr>\n",
       "      <th>4</th>\n",
       "      <td>7</td>\n",
       "      <td>2</td>\n",
       "      <td>5</td>\n",
       "      <td>3</td>\n",
       "      <td>4</td>\n",
       "    </tr>\n",
       "    <tr>\n",
       "      <th>5</th>\n",
       "      <td>7</td>\n",
       "      <td>2</td>\n",
       "      <td>5</td>\n",
       "      <td>3</td>\n",
       "      <td>4</td>\n",
       "    </tr>\n",
       "    <tr>\n",
       "      <th>...</th>\n",
       "      <td>...</td>\n",
       "      <td>...</td>\n",
       "      <td>...</td>\n",
       "      <td>...</td>\n",
       "      <td>...</td>\n",
       "    </tr>\n",
       "    <tr>\n",
       "      <th>2465</th>\n",
       "      <td>2</td>\n",
       "      <td>1</td>\n",
       "      <td>2</td>\n",
       "      <td>2</td>\n",
       "      <td>2</td>\n",
       "    </tr>\n",
       "    <tr>\n",
       "      <th>2467</th>\n",
       "      <td>1</td>\n",
       "      <td>1</td>\n",
       "      <td>2</td>\n",
       "      <td>2</td>\n",
       "      <td>2</td>\n",
       "    </tr>\n",
       "    <tr>\n",
       "      <th>2468</th>\n",
       "      <td>2</td>\n",
       "      <td>1</td>\n",
       "      <td>2</td>\n",
       "      <td>2</td>\n",
       "      <td>2</td>\n",
       "    </tr>\n",
       "    <tr>\n",
       "      <th>2484</th>\n",
       "      <td>3</td>\n",
       "      <td>2</td>\n",
       "      <td>3</td>\n",
       "      <td>1</td>\n",
       "      <td>1</td>\n",
       "    </tr>\n",
       "    <tr>\n",
       "      <th>2489</th>\n",
       "      <td>3</td>\n",
       "      <td>2</td>\n",
       "      <td>3</td>\n",
       "      <td>1</td>\n",
       "      <td>1</td>\n",
       "    </tr>\n",
       "  </tbody>\n",
       "</table>\n",
       "<p>508 rows × 5 columns</p>\n",
       "</div>"
      ],
      "text/plain": [
       "      Room  Appliance  Condo-Provide  Property-Exclusive  External\n",
       "0        1          3              4                   3         2\n",
       "2        8          4              7                   3         3\n",
       "3        7          4              7                   4         3\n",
       "4        7          2              5                   3         4\n",
       "5        7          2              5                   3         4\n",
       "...    ...        ...            ...                 ...       ...\n",
       "2465     2          1              2                   2         2\n",
       "2467     1          1              2                   2         2\n",
       "2468     2          1              2                   2         2\n",
       "2484     3          2              3                   1         1\n",
       "2489     3          2              3                   1         1\n",
       "\n",
       "[508 rows x 5 columns]"
      ]
     },
     "execution_count": 52,
     "metadata": {},
     "output_type": "execute_result"
    }
   ],
   "source": [
    "r4_ff_house['Room'] = r4_ff_house.loc[:,room_list].sum(axis=1)\n",
    "r4_ff_house['Appliance'] = r4_ff_house.loc[:,appliance_list].sum(axis=1)\n",
    "r4_ff_house['Condo-Provide'] = r4_ff_house.loc[:,condo_provided].sum(axis=1)\n",
    "r4_ff_house['Property-Exclusive'] = r4_ff_house.loc[:,property_exclusive].sum(axis=1)\n",
    "r4_ff_house['External'] = r4_ff_house.loc[:,external_list].sum(axis=1)\n",
    "\n",
    "r4_ff_house = r4_ff_house[['Room', 'Appliance', 'Condo-Provide', 'Property-Exclusive', 'External']]\n",
    "r4_ff_house"
   ]
  },
  {
   "cell_type": "code",
   "execution_count": 53,
   "id": "7d01e611",
   "metadata": {
    "ExecuteTime": {
     "end_time": "2022-12-14T15:11:49.588047Z",
     "start_time": "2022-12-14T15:11:49.416523Z"
    }
   },
   "outputs": [
    {
     "data": {
      "text/plain": [
       "Text(0.5, 1.0, 'Correlation of feature/facilities that exist on high-price range condo')"
      ]
     },
     "execution_count": 53,
     "metadata": {},
     "output_type": "execute_result"
    },
    {
     "data": {
      "image/png": "[encoded data removed]",
      "text/plain": [
       "<Figure size 432x288 with 2 Axes>"
      ]
     },
     "metadata": {
      "needs_background": "light"
     },
     "output_type": "display_data"
    }
   ],
   "source": [
    "sns.heatmap(r4_ff_house.corr(), annot=True, center=0, cmap='PiYG')\n",
    "plt.title(\"Correlation of feature/facilities that exist on high-price range condo\")"
   ]
  },
  {
   "cell_type": "markdown",
   "id": "b7621367",
   "metadata": {},
   "source": [
    "#### Findings: \n",
    "Since there are 52 features, we have divided them into 5 groups namely: Room, Appliance, condo provide, Property-exclusive, and external. Based on the heatmap presented, it can be seen that the correlation between the features are as follows: \n",
    "- The corrrelation of a condo-provided feature/facility and an property-exclusive provided feature/facility is 0.64 – meaning the chances of having this two together in a high-price range condo\n",
    "\n",
    "- Aside from that, the rest of the group of features shows little correlation between each other as they are getting closer to the value of zero.\n"
   ]
  },
  {
   "cell_type": "markdown",
   "id": "85da9631",
   "metadata": {},
   "source": [
    "### EDA#7: Correlation of nearby places that exist on high-price range houses"
   ]
  },
  {
   "cell_type": "markdown",
   "id": "608e63dc",
   "metadata": {},
   "source": [
    "### Nearby Places [add visualization here, most prob barplot]"
   ]
  },
  {
   "cell_type": "code",
   "execution_count": 54,
   "id": "1ef8751d",
   "metadata": {
    "ExecuteTime": {
     "end_time": "2022-12-14T15:11:49.603479Z",
     "start_time": "2022-12-14T15:11:49.589959Z"
    }
   },
   "outputs": [
    {
     "data": {
      "text/plain": [
       "4"
      ]
     },
     "execution_count": 54,
     "metadata": {},
     "output_type": "execute_result"
    }
   ],
   "source": [
    "nearby_places = list(set(sum([x for x in high_prices['Nearby Places']], [])))\n",
    "len(nearby_places)"
   ]
  },
  {
   "cell_type": "code",
   "execution_count": 55,
   "id": "6674c52f",
   "metadata": {
    "ExecuteTime": {
     "end_time": "2022-12-14T15:11:49.619514Z",
     "start_time": "2022-12-14T15:11:49.605481Z"
    }
   },
   "outputs": [],
   "source": [
    "one_hot_encoded_np = high_prices.copy()\n",
    "for i in nearby_places:\n",
    "    one_hot_encoded_np.insert(loc=len(one_hot_encoded_np.columns), column=i, value = 0)"
   ]
  },
  {
   "cell_type": "code",
   "execution_count": 56,
   "id": "fb5758c5",
   "metadata": {
    "ExecuteTime": {
     "end_time": "2022-12-14T15:11:49.667191Z",
     "start_time": "2022-12-14T15:11:49.621513Z"
    }
   },
   "outputs": [],
   "source": [
    "for n_p in nearby_places:\n",
    "    one_hot_encoded_np[n_p] = one_hot_encoded_np.apply(lambda x: 1 if n_p in x['Nearby Places'] else 0, axis=1)"
   ]
  },
  {
   "cell_type": "code",
   "execution_count": 57,
   "id": "b60a1ec5",
   "metadata": {
    "ExecuteTime": {
     "end_time": "2022-12-14T15:11:49.683205Z",
     "start_time": "2022-12-14T15:11:49.668684Z"
    }
   },
   "outputs": [],
   "source": [
    "# drop un-used columns\n",
    "one_hot_encoded_np = one_hot_encoded_np.drop(columns =['Name', 'Address', 'Author', 'Price', 'Bedrooms', 'Showers', 'Parking', 'Furnish', 'Total Developed', 'Features', 'Facilities', 'Nearby Places', 'URL', 'Timestamp', 'NFeatures', 'NFacilities', 'NNearby Places'], axis=1)"
   ]
  },
  {
   "cell_type": "code",
   "execution_count": 58,
   "id": "18f36e91",
   "metadata": {
    "ExecuteTime": {
     "end_time": "2022-12-14T15:11:49.699300Z",
     "start_time": "2022-12-14T15:11:49.684210Z"
    }
   },
   "outputs": [],
   "source": [
    "# filter to condos, since only those has nearby places\n",
    "one_hot_encoded_np = one_hot_encoded_np[one_hot_encoded_np['Type'] == 'Condo']"
   ]
  },
  {
   "cell_type": "code",
   "execution_count": 59,
   "id": "fa34dab6",
   "metadata": {
    "ExecuteTime": {
     "end_time": "2022-12-14T15:11:49.714867Z",
     "start_time": "2022-12-14T15:11:49.700287Z"
    }
   },
   "outputs": [],
   "source": [
    "r4_near_condo= one_hot_encoded_np[['Hospital', 'School', 'Transportation hub', 'Mall']]"
   ]
  },
  {
   "cell_type": "code",
   "execution_count": 60,
   "id": "6339f34c",
   "metadata": {
    "ExecuteTime": {
     "end_time": "2022-12-14T15:11:49.949291Z",
     "start_time": "2022-12-14T15:11:49.716869Z"
    }
   },
   "outputs": [
    {
     "data": {
      "text/plain": [
       "Text(0.5, 1.0, 'Correlation of nearby places that exist on high-price range condo')"
      ]
     },
     "execution_count": 60,
     "metadata": {},
     "output_type": "execute_result"
    },
    {
     "data": {
      "image/png": "[encoded data removed]",
      "text/plain": [
       "<Figure size 432x288 with 2 Axes>"
      ]
     },
     "metadata": {
      "needs_background": "light"
     },
     "output_type": "display_data"
    }
   ],
   "source": [
    "sns.heatmap(r4_near_condo.corr(), annot=True, center=0, cmap='PiYG')\n",
    "plt.title(\"Correlation of nearby places that exist on high-price range condo\")"
   ]
  },
  {
   "cell_type": "markdown",
   "id": "144c98d9",
   "metadata": {},
   "source": [
    "#### Findings: \n",
    "Based on the data gathered, it can be seen that the correlation between the nearby places that exist on a high range houses are as follows: \n",
    "- The correlation of having a mall and a transportation hub is 0.72\n",
    "\n",
    "- Meaning that there is a higher chance that if there is a mall nearby a high-price range house then there is also a transportation hub\n"
   ]
  },
  {
   "cell_type": "markdown",
   "id": "165b6492",
   "metadata": {},
   "source": [
    "### EDA#8: What is the median size of houses (in square meters) per city, region and island?"
   ]
  },
  {
   "cell_type": "markdown",
   "id": "8b453898",
   "metadata": {},
   "source": [
    "#### City"
   ]
  },
  {
   "cell_type": "code",
   "execution_count": 61,
   "id": "bb24fc2d",
   "metadata": {
    "ExecuteTime": {
     "end_time": "2022-12-14T15:11:49.965364Z",
     "start_time": "2022-12-14T15:11:49.950277Z"
    },
    "scrolled": true
   },
   "outputs": [
    {
     "data": {
      "text/html": [
       "<div>\n",
       "<style scoped>\n",
       "    .dataframe tbody tr th:only-of-type {\n",
       "        vertical-align: middle;\n",
       "    }\n",
       "\n",
       "    .dataframe tbody tr th {\n",
       "        vertical-align: top;\n",
       "    }\n",
       "\n",
       "    .dataframe thead th {\n",
       "        text-align: right;\n",
       "    }\n",
       "</style>\n",
       "<table border=\"1\" class=\"dataframe\">\n",
       "  <thead>\n",
       "    <tr style=\"text-align: right;\">\n",
       "      <th></th>\n",
       "      <th>Type</th>\n",
       "      <th>Island</th>\n",
       "      <th>City</th>\n",
       "      <th>Total Developed</th>\n",
       "    </tr>\n",
       "  </thead>\n",
       "  <tbody>\n",
       "    <tr>\n",
       "      <th>0</th>\n",
       "      <td>House</td>\n",
       "      <td>Luzon</td>\n",
       "      <td>Silang</td>\n",
       "      <td>725.0</td>\n",
       "    </tr>\n",
       "    <tr>\n",
       "      <th>1</th>\n",
       "      <td>House</td>\n",
       "      <td>Luzon</td>\n",
       "      <td>Biñan</td>\n",
       "      <td>470.0</td>\n",
       "    </tr>\n",
       "    <tr>\n",
       "      <th>2</th>\n",
       "      <td>House</td>\n",
       "      <td>Luzon</td>\n",
       "      <td>Muntinlupa</td>\n",
       "      <td>455.0</td>\n",
       "    </tr>\n",
       "    <tr>\n",
       "      <th>3</th>\n",
       "      <td>House</td>\n",
       "      <td>Luzon</td>\n",
       "      <td>Taguig</td>\n",
       "      <td>410.0</td>\n",
       "    </tr>\n",
       "    <tr>\n",
       "      <th>4</th>\n",
       "      <td>House</td>\n",
       "      <td>Luzon</td>\n",
       "      <td>Tagaytay</td>\n",
       "      <td>400.0</td>\n",
       "    </tr>\n",
       "    <tr>\n",
       "      <th>...</th>\n",
       "      <td>...</td>\n",
       "      <td>...</td>\n",
       "      <td>...</td>\n",
       "      <td>...</td>\n",
       "    </tr>\n",
       "    <tr>\n",
       "      <th>58</th>\n",
       "      <td>House</td>\n",
       "      <td>Luzon</td>\n",
       "      <td>Cabanatuan</td>\n",
       "      <td>50.0</td>\n",
       "    </tr>\n",
       "    <tr>\n",
       "      <th>59</th>\n",
       "      <td>House</td>\n",
       "      <td>Luzon</td>\n",
       "      <td>Tanza</td>\n",
       "      <td>48.0</td>\n",
       "    </tr>\n",
       "    <tr>\n",
       "      <th>60</th>\n",
       "      <td>House</td>\n",
       "      <td>Luzon</td>\n",
       "      <td>San Jose Del Monte</td>\n",
       "      <td>44.0</td>\n",
       "    </tr>\n",
       "    <tr>\n",
       "      <th>61</th>\n",
       "      <td>House</td>\n",
       "      <td>Luzon</td>\n",
       "      <td>Pandi</td>\n",
       "      <td>42.0</td>\n",
       "    </tr>\n",
       "    <tr>\n",
       "      <th>62</th>\n",
       "      <td>House</td>\n",
       "      <td>Luzon</td>\n",
       "      <td>Mabalacat</td>\n",
       "      <td>38.5</td>\n",
       "    </tr>\n",
       "  </tbody>\n",
       "</table>\n",
       "<p>63 rows × 4 columns</p>\n",
       "</div>"
      ],
      "text/plain": [
       "     Type Island                City  Total Developed\n",
       "0   House  Luzon              Silang            725.0\n",
       "1   House  Luzon               Biñan            470.0\n",
       "2   House  Luzon          Muntinlupa            455.0\n",
       "3   House  Luzon              Taguig            410.0\n",
       "4   House  Luzon            Tagaytay            400.0\n",
       "..    ...    ...                 ...              ...\n",
       "58  House  Luzon          Cabanatuan             50.0\n",
       "59  House  Luzon               Tanza             48.0\n",
       "60  House  Luzon  San Jose Del Monte             44.0\n",
       "61  House  Luzon               Pandi             42.0\n",
       "62  House  Luzon           Mabalacat             38.5\n",
       "\n",
       "[63 rows x 4 columns]"
      ]
     },
     "execution_count": 61,
     "metadata": {},
     "output_type": "execute_result"
    }
   ],
   "source": [
    "r5 = df[df.Type == \"House\"]\n",
    "r5city = r5.groupby(['Type', 'Island', 'City'])['Total Developed'].median().sort_values(ascending=False).reset_index()\n",
    "r5city"
   ]
  },
  {
   "cell_type": "code",
   "execution_count": 62,
   "id": "96ba99c2",
   "metadata": {
    "ExecuteTime": {
     "end_time": "2022-12-14T15:11:49.981452Z",
     "start_time": "2022-12-14T15:11:49.966344Z"
    },
    "scrolled": true
   },
   "outputs": [
    {
     "data": {
      "text/html": [
       "<div>\n",
       "<style scoped>\n",
       "    .dataframe tbody tr th:only-of-type {\n",
       "        vertical-align: middle;\n",
       "    }\n",
       "\n",
       "    .dataframe tbody tr th {\n",
       "        vertical-align: top;\n",
       "    }\n",
       "\n",
       "    .dataframe thead th {\n",
       "        text-align: right;\n",
       "    }\n",
       "</style>\n",
       "<table border=\"1\" class=\"dataframe\">\n",
       "  <thead>\n",
       "    <tr style=\"text-align: right;\">\n",
       "      <th></th>\n",
       "      <th>Type</th>\n",
       "      <th>Island</th>\n",
       "      <th>City</th>\n",
       "      <th>Total Developed</th>\n",
       "    </tr>\n",
       "  </thead>\n",
       "  <tbody>\n",
       "    <tr>\n",
       "      <th>0</th>\n",
       "      <td>House</td>\n",
       "      <td>Luzon</td>\n",
       "      <td>Silang</td>\n",
       "      <td>725.0</td>\n",
       "    </tr>\n",
       "    <tr>\n",
       "      <th>1</th>\n",
       "      <td>House</td>\n",
       "      <td>Luzon</td>\n",
       "      <td>Biñan</td>\n",
       "      <td>470.0</td>\n",
       "    </tr>\n",
       "    <tr>\n",
       "      <th>2</th>\n",
       "      <td>House</td>\n",
       "      <td>Luzon</td>\n",
       "      <td>Muntinlupa</td>\n",
       "      <td>455.0</td>\n",
       "    </tr>\n",
       "    <tr>\n",
       "      <th>3</th>\n",
       "      <td>House</td>\n",
       "      <td>Luzon</td>\n",
       "      <td>Taguig</td>\n",
       "      <td>410.0</td>\n",
       "    </tr>\n",
       "    <tr>\n",
       "      <th>4</th>\n",
       "      <td>House</td>\n",
       "      <td>Luzon</td>\n",
       "      <td>Tagaytay</td>\n",
       "      <td>400.0</td>\n",
       "    </tr>\n",
       "    <tr>\n",
       "      <th>6</th>\n",
       "      <td>House</td>\n",
       "      <td>Luzon</td>\n",
       "      <td>Lapu-Lapu</td>\n",
       "      <td>400.0</td>\n",
       "    </tr>\n",
       "    <tr>\n",
       "      <th>7</th>\n",
       "      <td>House</td>\n",
       "      <td>Luzon</td>\n",
       "      <td>Makati</td>\n",
       "      <td>390.5</td>\n",
       "    </tr>\n",
       "    <tr>\n",
       "      <th>9</th>\n",
       "      <td>House</td>\n",
       "      <td>Luzon</td>\n",
       "      <td>Manila</td>\n",
       "      <td>364.0</td>\n",
       "    </tr>\n",
       "    <tr>\n",
       "      <th>10</th>\n",
       "      <td>House</td>\n",
       "      <td>Luzon</td>\n",
       "      <td>Quezon</td>\n",
       "      <td>362.5</td>\n",
       "    </tr>\n",
       "    <tr>\n",
       "      <th>11</th>\n",
       "      <td>House</td>\n",
       "      <td>Luzon</td>\n",
       "      <td>Parañaque</td>\n",
       "      <td>350.0</td>\n",
       "    </tr>\n",
       "  </tbody>\n",
       "</table>\n",
       "</div>"
      ],
      "text/plain": [
       "     Type Island        City  Total Developed\n",
       "0   House  Luzon      Silang            725.0\n",
       "1   House  Luzon       Biñan            470.0\n",
       "2   House  Luzon  Muntinlupa            455.0\n",
       "3   House  Luzon      Taguig            410.0\n",
       "4   House  Luzon    Tagaytay            400.0\n",
       "6   House  Luzon   Lapu-Lapu            400.0\n",
       "7   House  Luzon      Makati            390.5\n",
       "9   House  Luzon      Manila            364.0\n",
       "10  House  Luzon      Quezon            362.5\n",
       "11  House  Luzon   Parañaque            350.0"
      ]
     },
     "execution_count": 62,
     "metadata": {},
     "output_type": "execute_result"
    }
   ],
   "source": [
    "r5luzon = r5city[r5city.Island == \"Luzon\"]\n",
    "r5_luzon_ten = r5luzon.head(10)\n",
    "r5_luzon_ten"
   ]
  },
  {
   "cell_type": "code",
   "execution_count": 63,
   "id": "fdcb2fde",
   "metadata": {
    "ExecuteTime": {
     "end_time": "2022-12-14T15:11:50.076790Z",
     "start_time": "2022-12-14T15:11:49.982430Z"
    }
   },
   "outputs": [
    {
     "data": {
      "image/png": "[encoded data removed]",
      "text/plain": [
       "<Figure size 432x288 with 1 Axes>"
      ]
     },
     "metadata": {
      "needs_background": "light"
     },
     "output_type": "display_data"
    }
   ],
   "source": [
    "sns.barplot(x=r5_luzon_ten[\"Total Developed\"] , y=r5_luzon_ten[\"City\"], dodge=False, ci=None)\n",
    "plt.xlabel(\"City\")\n",
    "plt.ylabel(\"Total Developed\")\n",
    "plt.title(\"Median size of houses (in square meters) in each city in Luzon\")\n",
    "plt.show()"
   ]
  },
  {
   "cell_type": "code",
   "execution_count": 64,
   "id": "d03b3586",
   "metadata": {
    "ExecuteTime": {
     "end_time": "2022-12-14T15:11:50.092377Z",
     "start_time": "2022-12-14T15:11:50.077791Z"
    },
    "scrolled": true
   },
   "outputs": [
    {
     "data": {
      "text/html": [
       "<div>\n",
       "<style scoped>\n",
       "    .dataframe tbody tr th:only-of-type {\n",
       "        vertical-align: middle;\n",
       "    }\n",
       "\n",
       "    .dataframe tbody tr th {\n",
       "        vertical-align: top;\n",
       "    }\n",
       "\n",
       "    .dataframe thead th {\n",
       "        text-align: right;\n",
       "    }\n",
       "</style>\n",
       "<table border=\"1\" class=\"dataframe\">\n",
       "  <thead>\n",
       "    <tr style=\"text-align: right;\">\n",
       "      <th></th>\n",
       "      <th>Type</th>\n",
       "      <th>Island</th>\n",
       "      <th>City</th>\n",
       "      <th>Total Developed</th>\n",
       "    </tr>\n",
       "  </thead>\n",
       "  <tbody>\n",
       "    <tr>\n",
       "      <th>5</th>\n",
       "      <td>House</td>\n",
       "      <td>Visayas</td>\n",
       "      <td>Cebu</td>\n",
       "      <td>400.0</td>\n",
       "    </tr>\n",
       "    <tr>\n",
       "      <th>8</th>\n",
       "      <td>House</td>\n",
       "      <td>Visayas</td>\n",
       "      <td>Dauin</td>\n",
       "      <td>389.0</td>\n",
       "    </tr>\n",
       "    <tr>\n",
       "      <th>17</th>\n",
       "      <td>House</td>\n",
       "      <td>Visayas</td>\n",
       "      <td>Dumaguete</td>\n",
       "      <td>263.0</td>\n",
       "    </tr>\n",
       "    <tr>\n",
       "      <th>20</th>\n",
       "      <td>House</td>\n",
       "      <td>Visayas</td>\n",
       "      <td>Talisay</td>\n",
       "      <td>226.5</td>\n",
       "    </tr>\n",
       "    <tr>\n",
       "      <th>21</th>\n",
       "      <td>House</td>\n",
       "      <td>Visayas</td>\n",
       "      <td>Negros Island Region</td>\n",
       "      <td>225.0</td>\n",
       "    </tr>\n",
       "    <tr>\n",
       "      <th>26</th>\n",
       "      <td>House</td>\n",
       "      <td>Visayas</td>\n",
       "      <td>Bacong</td>\n",
       "      <td>205.0</td>\n",
       "    </tr>\n",
       "    <tr>\n",
       "      <th>27</th>\n",
       "      <td>House</td>\n",
       "      <td>Visayas</td>\n",
       "      <td>Consolacion</td>\n",
       "      <td>183.0</td>\n",
       "    </tr>\n",
       "    <tr>\n",
       "      <th>30</th>\n",
       "      <td>House</td>\n",
       "      <td>Visayas</td>\n",
       "      <td>Danao</td>\n",
       "      <td>155.0</td>\n",
       "    </tr>\n",
       "    <tr>\n",
       "      <th>36</th>\n",
       "      <td>House</td>\n",
       "      <td>Visayas</td>\n",
       "      <td>Sibulan</td>\n",
       "      <td>135.0</td>\n",
       "    </tr>\n",
       "    <tr>\n",
       "      <th>37</th>\n",
       "      <td>House</td>\n",
       "      <td>Visayas</td>\n",
       "      <td>Mandaue</td>\n",
       "      <td>124.5</td>\n",
       "    </tr>\n",
       "  </tbody>\n",
       "</table>\n",
       "</div>"
      ],
      "text/plain": [
       "     Type   Island                  City  Total Developed\n",
       "5   House  Visayas                  Cebu            400.0\n",
       "8   House  Visayas                 Dauin            389.0\n",
       "17  House  Visayas             Dumaguete            263.0\n",
       "20  House  Visayas               Talisay            226.5\n",
       "21  House  Visayas  Negros Island Region            225.0\n",
       "26  House  Visayas                Bacong            205.0\n",
       "27  House  Visayas           Consolacion            183.0\n",
       "30  House  Visayas                 Danao            155.0\n",
       "36  House  Visayas               Sibulan            135.0\n",
       "37  House  Visayas               Mandaue            124.5"
      ]
     },
     "execution_count": 64,
     "metadata": {},
     "output_type": "execute_result"
    }
   ],
   "source": [
    "r5visayas = r5city[r5city.Island == \"Visayas\"]\n",
    "r5_visayas_ten = r5visayas.head(10)\n",
    "r5_visayas_ten"
   ]
  },
  {
   "cell_type": "code",
   "execution_count": 65,
   "id": "b7a8c9fc",
   "metadata": {
    "ExecuteTime": {
     "end_time": "2022-12-14T15:11:50.201002Z",
     "start_time": "2022-12-14T15:11:50.093382Z"
    }
   },
   "outputs": [
    {
     "data": {
      "image/png": "[encoded data removed]",
      "text/plain": [
       "<Figure size 432x288 with 1 Axes>"
      ]
     },
     "metadata": {
      "needs_background": "light"
     },
     "output_type": "display_data"
    }
   ],
   "source": [
    "sns.barplot(x=r5_visayas_ten[\"Total Developed\"] , y=r5_visayas_ten[\"City\"], dodge=False, ci=None)\n",
    "plt.xlabel(\"City\")\n",
    "plt.ylabel(\"Total Developed\")\n",
    "plt.title(\"Median size of houses (in square meters) in each city in Visayas\")\n",
    "plt.show()"
   ]
  },
  {
   "cell_type": "code",
   "execution_count": 66,
   "id": "a4eab6b3",
   "metadata": {
    "ExecuteTime": {
     "end_time": "2022-12-14T15:11:50.216508Z",
     "start_time": "2022-12-14T15:11:50.201976Z"
    },
    "scrolled": true
   },
   "outputs": [
    {
     "data": {
      "text/html": [
       "<div>\n",
       "<style scoped>\n",
       "    .dataframe tbody tr th:only-of-type {\n",
       "        vertical-align: middle;\n",
       "    }\n",
       "\n",
       "    .dataframe tbody tr th {\n",
       "        vertical-align: top;\n",
       "    }\n",
       "\n",
       "    .dataframe thead th {\n",
       "        text-align: right;\n",
       "    }\n",
       "</style>\n",
       "<table border=\"1\" class=\"dataframe\">\n",
       "  <thead>\n",
       "    <tr style=\"text-align: right;\">\n",
       "      <th></th>\n",
       "      <th>Type</th>\n",
       "      <th>Island</th>\n",
       "      <th>City</th>\n",
       "      <th>Total Developed</th>\n",
       "    </tr>\n",
       "  </thead>\n",
       "  <tbody>\n",
       "    <tr>\n",
       "      <th>12</th>\n",
       "      <td>House</td>\n",
       "      <td>Mindanao</td>\n",
       "      <td>Valencia</td>\n",
       "      <td>300.0</td>\n",
       "    </tr>\n",
       "  </tbody>\n",
       "</table>\n",
       "</div>"
      ],
      "text/plain": [
       "     Type    Island      City  Total Developed\n",
       "12  House  Mindanao  Valencia            300.0"
      ]
     },
     "execution_count": 66,
     "metadata": {},
     "output_type": "execute_result"
    }
   ],
   "source": [
    "r5mindanao = r5city[r5city.Island == \"Mindanao\"]\n",
    "r5_mindanao_ten = r5mindanao.head(10)\n",
    "r5_mindanao_ten"
   ]
  },
  {
   "cell_type": "markdown",
   "id": "7dc1ea58",
   "metadata": {},
   "source": [
    "#### Findings:\n",
    "Among all the cities in Luzon, botolan has the largest median size in houses and among all the cities in Visayas, cebu has the largest median size in houses\n"
   ]
  },
  {
   "cell_type": "markdown",
   "id": "25edebed",
   "metadata": {},
   "source": [
    "#### Region"
   ]
  },
  {
   "cell_type": "code",
   "execution_count": 67,
   "id": "33129cb9",
   "metadata": {
    "ExecuteTime": {
     "end_time": "2022-12-14T15:11:50.248135Z",
     "start_time": "2022-12-14T15:11:50.218024Z"
    }
   },
   "outputs": [
    {
     "data": {
      "text/html": [
       "<div>\n",
       "<style scoped>\n",
       "    .dataframe tbody tr th:only-of-type {\n",
       "        vertical-align: middle;\n",
       "    }\n",
       "\n",
       "    .dataframe tbody tr th {\n",
       "        vertical-align: top;\n",
       "    }\n",
       "\n",
       "    .dataframe thead th {\n",
       "        text-align: right;\n",
       "    }\n",
       "</style>\n",
       "<table border=\"1\" class=\"dataframe\">\n",
       "  <thead>\n",
       "    <tr style=\"text-align: right;\">\n",
       "      <th></th>\n",
       "      <th>Type</th>\n",
       "      <th>Region</th>\n",
       "      <th>Total Developed</th>\n",
       "    </tr>\n",
       "  </thead>\n",
       "  <tbody>\n",
       "    <tr>\n",
       "      <th>0</th>\n",
       "      <td>House</td>\n",
       "      <td>National Capital Region</td>\n",
       "      <td>330.5</td>\n",
       "    </tr>\n",
       "    <tr>\n",
       "      <th>1</th>\n",
       "      <td>House</td>\n",
       "      <td>Cordillera Administrative Region</td>\n",
       "      <td>300.0</td>\n",
       "    </tr>\n",
       "    <tr>\n",
       "      <th>2</th>\n",
       "      <td>House</td>\n",
       "      <td>Northern Mindanao</td>\n",
       "      <td>300.0</td>\n",
       "    </tr>\n",
       "    <tr>\n",
       "      <th>3</th>\n",
       "      <td>House</td>\n",
       "      <td>Central Visayas</td>\n",
       "      <td>225.0</td>\n",
       "    </tr>\n",
       "    <tr>\n",
       "      <th>4</th>\n",
       "      <td>House</td>\n",
       "      <td>Calabarzon</td>\n",
       "      <td>121.0</td>\n",
       "    </tr>\n",
       "    <tr>\n",
       "      <th>5</th>\n",
       "      <td>House</td>\n",
       "      <td>Western Visayas</td>\n",
       "      <td>107.0</td>\n",
       "    </tr>\n",
       "    <tr>\n",
       "      <th>6</th>\n",
       "      <td>House</td>\n",
       "      <td>Central Luzon</td>\n",
       "      <td>65.5</td>\n",
       "    </tr>\n",
       "  </tbody>\n",
       "</table>\n",
       "</div>"
      ],
      "text/plain": [
       "    Type                            Region  Total Developed\n",
       "0  House           National Capital Region            330.5\n",
       "1  House  Cordillera Administrative Region            300.0\n",
       "2  House                 Northern Mindanao            300.0\n",
       "3  House                   Central Visayas            225.0\n",
       "4  House                        Calabarzon            121.0\n",
       "5  House                   Western Visayas            107.0\n",
       "6  House                     Central Luzon             65.5"
      ]
     },
     "execution_count": 67,
     "metadata": {},
     "output_type": "execute_result"
    }
   ],
   "source": [
    "r5region = r5.groupby(['Type', 'Region'])['Total Developed'].median().sort_values(ascending=False).reset_index()\n",
    "r5region "
   ]
  },
  {
   "cell_type": "code",
   "execution_count": 68,
   "id": "252471d9",
   "metadata": {
    "ExecuteTime": {
     "end_time": "2022-12-14T15:11:50.374215Z",
     "start_time": "2022-12-14T15:11:50.249602Z"
    }
   },
   "outputs": [
    {
     "data": {
      "image/png": "[encoded data removed]",
      "text/plain": [
       "<Figure size 1440x1008 with 1 Axes>"
      ]
     },
     "metadata": {
      "needs_background": "light"
     },
     "output_type": "display_data"
    }
   ],
   "source": [
    "plt.figure(figsize=(20,14))\n",
    "sns.barplot(x=r5region[\"Region\"], y=r5region[\"Total Developed\"], dodge=False, ci=None)\n",
    "plt.xlabel(\"Region\")\n",
    "plt.ylabel(\"Total Developed\")\n",
    "plt.title(\"Median size of houses (in square meters) in each region\")\n",
    "plt.show()"
   ]
  },
  {
   "cell_type": "markdown",
   "id": "7d17dfbc",
   "metadata": {},
   "source": [
    "#### Findings: \n",
    "Grouping the data by region,  we can see that cordillera administrative region has the largest median size in houses\n"
   ]
  },
  {
   "cell_type": "markdown",
   "id": "f7349a8c",
   "metadata": {},
   "source": [
    "#### Island"
   ]
  },
  {
   "cell_type": "code",
   "execution_count": 69,
   "id": "b53ccd6f",
   "metadata": {
    "ExecuteTime": {
     "end_time": "2022-12-14T15:11:50.390251Z",
     "start_time": "2022-12-14T15:11:50.376189Z"
    }
   },
   "outputs": [
    {
     "data": {
      "text/html": [
       "<div>\n",
       "<style scoped>\n",
       "    .dataframe tbody tr th:only-of-type {\n",
       "        vertical-align: middle;\n",
       "    }\n",
       "\n",
       "    .dataframe tbody tr th {\n",
       "        vertical-align: top;\n",
       "    }\n",
       "\n",
       "    .dataframe thead th {\n",
       "        text-align: right;\n",
       "    }\n",
       "</style>\n",
       "<table border=\"1\" class=\"dataframe\">\n",
       "  <thead>\n",
       "    <tr style=\"text-align: right;\">\n",
       "      <th></th>\n",
       "      <th>Type</th>\n",
       "      <th>Island</th>\n",
       "      <th>Total Developed</th>\n",
       "    </tr>\n",
       "  </thead>\n",
       "  <tbody>\n",
       "    <tr>\n",
       "      <th>0</th>\n",
       "      <td>House</td>\n",
       "      <td>Mindanao</td>\n",
       "      <td>300.0</td>\n",
       "    </tr>\n",
       "    <tr>\n",
       "      <th>1</th>\n",
       "      <td>House</td>\n",
       "      <td>Luzon</td>\n",
       "      <td>268.0</td>\n",
       "    </tr>\n",
       "    <tr>\n",
       "      <th>2</th>\n",
       "      <td>House</td>\n",
       "      <td>Visayas</td>\n",
       "      <td>224.5</td>\n",
       "    </tr>\n",
       "  </tbody>\n",
       "</table>\n",
       "</div>"
      ],
      "text/plain": [
       "    Type    Island  Total Developed\n",
       "0  House  Mindanao            300.0\n",
       "1  House     Luzon            268.0\n",
       "2  House   Visayas            224.5"
      ]
     },
     "execution_count": 69,
     "metadata": {},
     "output_type": "execute_result"
    }
   ],
   "source": [
    "r5island = r5.groupby(['Type', 'Island'])['Total Developed'].median().sort_values(ascending=False).reset_index()\n",
    "r5island"
   ]
  },
  {
   "cell_type": "code",
   "execution_count": 70,
   "id": "d1209713",
   "metadata": {
    "ExecuteTime": {
     "end_time": "2022-12-14T15:11:50.453508Z",
     "start_time": "2022-12-14T15:11:50.392237Z"
    },
    "scrolled": true
   },
   "outputs": [
    {
     "data": {
      "image/png": "[encoded data removed]",
      "text/plain": [
       "<Figure size 432x288 with 1 Axes>"
      ]
     },
     "metadata": {},
     "output_type": "display_data"
    }
   ],
   "source": [
    "plt.pie(r5island[\"Total Developed\"], labels = r5island[\"Island\"], colors=[colors[v] for v in r5island[\"Island\"].value_counts().keys()])\n",
    "plt.title(\"Median size of houses (in square meters) in each island\")\n",
    "plt.show()"
   ]
  },
  {
   "cell_type": "markdown",
   "id": "6bf7ccda",
   "metadata": {},
   "source": [
    "#### Findings: \n",
    "Grouping the data by island, we can see that Mindanao has the largest median size in houses \n"
   ]
  },
  {
   "cell_type": "code",
   "execution_count": null,
   "id": "2405a3cf",
   "metadata": {},
   "outputs": [],
   "source": []
  }
 ],
 "metadata": {
  "kernelspec": {
   "display_name": "Python 3 (ipykernel)",
   "language": "python",
   "name": "python3"
  },
  "language_info": {
   "codemirror_mode": {
    "name": "ipython",
    "version": 3
   },
   "file_extension": ".py",
   "mimetype": "text/x-python",
   "name": "python",
   "nbconvert_exporter": "python",
   "pygments_lexer": "ipython3",
   "version": "3.8.8"
  },
  "toc": {
   "base_numbering": 1,
   "nav_menu": {},
   "number_sections": true,
   "sideBar": true,
   "skip_h1_title": false,
   "title_cell": "Table of Contents",
   "title_sidebar": "Contents",
   "toc_cell": false,
   "toc_position": {},
   "toc_section_display": true,
   "toc_window_display": false
  }
 },
 "nbformat": 4,
 "nbformat_minor": 5
}
